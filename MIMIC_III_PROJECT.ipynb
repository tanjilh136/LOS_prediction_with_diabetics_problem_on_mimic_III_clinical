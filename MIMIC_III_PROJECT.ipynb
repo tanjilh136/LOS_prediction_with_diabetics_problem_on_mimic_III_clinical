{
 "cells": [
  {
   "cell_type": "code",
   "execution_count": null,
   "id": "8a29ec06",
   "metadata": {
    "colab": {
     "base_uri": "https://localhost:8080/"
    },
    "executionInfo": {
     "elapsed": 18692,
     "status": "ok",
     "timestamp": 1653745946746,
     "user": {
      "displayName": "tanjil hasan",
      "userId": "01226942888917073947"
     },
     "user_tz": -120
    },
    "id": "8a29ec06",
    "outputId": "9e407273-1f51-4222-b0f5-734a4ee0e088"
   },
   "outputs": [
    {
     "name": "stdout",
     "output_type": "stream",
     "text": [
      "Authenticated\n"
     ]
    }
   ],
   "source": [
    "from google.colab import auth\n",
    "auth.authenticate_user()\n",
    "print('Authenticated')"
   ]
  },
  {
   "cell_type": "code",
   "execution_count": null,
   "id": "1aa3d8f2",
   "metadata": {
    "id": "1aa3d8f2"
   },
   "outputs": [],
   "source": [
    "from pandas.io import gbq\n",
    "from datetime import datetime\n",
    "import pandas as pd\n",
    "import matplotlib.pyplot as plt\n",
    "import numpy as np"
   ]
  },
  {
   "cell_type": "markdown",
   "id": "CK7Z9TmVBbj5",
   "metadata": {
    "id": "CK7Z9TmVBbj5"
   },
   "source": [
    "#extracting data from MIMIC III DATABASE"
   ]
  },
  {
   "cell_type": "code",
   "execution_count": null,
   "id": "hv6hiwDIxE0-",
   "metadata": {
    "id": "hv6hiwDIxE0-"
   },
   "outputs": [],
   "source": [
    "query = \"SELECT SUBJECT_ID,SEQ_NUM,ICD9_CODE FROM `physionet-data.mimiciii_clinical.diagnoses_icd` where ICD9_CODE='25000'\"\n",
    "diag_icd_df = gbq.read_gbq(query, project_id = \"\")"
   ]
  },
  {
   "cell_type": "code",
   "execution_count": null,
   "id": "69444ca8",
   "metadata": {
    "id": "69444ca8"
   },
   "outputs": [],
   "source": [
    "query = f\"SELECT HADM_ID,SUBJECT_ID,ADMITTIME,DISCHTIME,DEATHTIME,ETHNICITY,ADMISSION_TYPE,ADMISSION_LOCATION,INSURANCE,RELIGION,MARITAL_STATUS FROM `physionet-data.mimiciii_clinical.admissions` where SUBJECT_ID in (select SUBJECT_ID from `physionet-data.mimiciii_clinical.diagnoses_icd` where ICD9_CODE='25000')\"\n",
    "admission_df = gbq.read_gbq(query, project_id = \"\")"
   ]
  },
  {
   "cell_type": "code",
   "execution_count": null,
   "id": "jOtM5pBSsilp",
   "metadata": {
    "id": "jOtM5pBSsilp"
   },
   "outputs": [],
   "source": [
    "query = \"SELECT SUBJECT_ID,FIRST_CAREUNIT,LAST_CAREUNIT,FIRST_WARDID,LAST_WARDID,LOS FROM `physionet-data.mimiciii_clinical.icustays` where SUBJECT_ID in (select SUBJECT_ID from `physionet-data.mimiciii_clinical.diagnoses_icd` where ICD9_CODE='25000')\"\n",
    "icu_stay_df = gbq.read_gbq(query, project_id = \"\")"
   ]
  },
  {
   "cell_type": "code",
   "execution_count": null,
   "id": "ys0UrwvLJbmi",
   "metadata": {
    "id": "ys0UrwvLJbmi"
   },
   "outputs": [],
   "source": [
    "query = \"SELECT SUBJECT_ID,GENDER,DOB, FROM `physionet-data.mimiciii_clinical.patients`  where SUBJECT_ID in (select SUBJECT_ID from `physionet-data.mimiciii_clinical.diagnoses_icd` where ICD9_CODE='25000')\"\n",
    "paitents_df = gbq.read_gbq(query, project_id = \"\")"
   ]
  },
  {
   "cell_type": "markdown",
   "id": "MsH3aWCTEL2s",
   "metadata": {
    "id": "MsH3aWCTEL2s"
   },
   "source": [
    "## DATA FRAMES FUSED TO MAKE INTERPRETATION OR VISULIZATION DATA MORE USEFUL"
   ]
  },
  {
   "cell_type": "code",
   "execution_count": null,
   "id": "NnM2fhOi4BiU",
   "metadata": {
    "id": "NnM2fhOi4BiU"
   },
   "outputs": [],
   "source": [
    "frame_list =[diag_icd_df,admission_df,icu_stay_df,paitents_df]\n",
    "for i in range(0,len(frame_list)-1):\n",
    "  if i ==0:\n",
    "    merged = frame_list[i].merge(frame_list[i+1], how='outer', on='SUBJECT_ID')\n",
    "  else:\n",
    "    merged = merged.merge(frame_list[i+1], how='outer', on='SUBJECT_ID')"
   ]
  },
  {
   "cell_type": "code",
   "execution_count": null,
   "id": "F3kCF4duolX0",
   "metadata": {
    "colab": {
     "base_uri": "https://localhost:8080/",
     "height": 510
    },
    "executionInfo": {
     "elapsed": 260,
     "status": "ok",
     "timestamp": 1653738655326,
     "user": {
      "displayName": "tanjil hasan",
      "userId": "01226942888917073947"
     },
     "user_tz": -120
    },
    "id": "F3kCF4duolX0",
    "outputId": "725c4b6e-6645-4b98-e466-b99e7fd79e90"
   },
   "outputs": [
    {
     "data": {
      "text/html": [
       "\n",
       "  <div id=\"df-da6d46c7-774b-4c1b-a431-86534f47cc43\">\n",
       "    <div class=\"colab-df-container\">\n",
       "      <div>\n",
       "<style scoped>\n",
       "    .dataframe tbody tr th:only-of-type {\n",
       "        vertical-align: middle;\n",
       "    }\n",
       "\n",
       "    .dataframe tbody tr th {\n",
       "        vertical-align: top;\n",
       "    }\n",
       "\n",
       "    .dataframe thead th {\n",
       "        text-align: right;\n",
       "    }\n",
       "</style>\n",
       "<table border=\"1\" class=\"dataframe\">\n",
       "  <thead>\n",
       "    <tr style=\"text-align: right;\">\n",
       "      <th></th>\n",
       "      <th>SUBJECT_ID</th>\n",
       "      <th>SEQ_NUM</th>\n",
       "      <th>ICD9_CODE</th>\n",
       "      <th>HADM_ID</th>\n",
       "      <th>ADMITTIME</th>\n",
       "      <th>DISCHTIME</th>\n",
       "      <th>DEATHTIME</th>\n",
       "      <th>ETHNICITY</th>\n",
       "      <th>ADMISSION_TYPE</th>\n",
       "      <th>ADMISSION_LOCATION</th>\n",
       "      <th>INSURANCE</th>\n",
       "      <th>RELIGION</th>\n",
       "      <th>MARITAL_STATUS</th>\n",
       "      <th>FIRST_CAREUNIT</th>\n",
       "      <th>LAST_CAREUNIT</th>\n",
       "      <th>FIRST_WARDID</th>\n",
       "      <th>LAST_WARDID</th>\n",
       "      <th>LOS</th>\n",
       "      <th>GENDER</th>\n",
       "      <th>DOB</th>\n",
       "    </tr>\n",
       "  </thead>\n",
       "  <tbody>\n",
       "    <tr>\n",
       "      <th>0</th>\n",
       "      <td>4096</td>\n",
       "      <td>7</td>\n",
       "      <td>25000</td>\n",
       "      <td>161677</td>\n",
       "      <td>2170-06-05 19:49:00</td>\n",
       "      <td>2170-06-22 16:00:00</td>\n",
       "      <td>NaT</td>\n",
       "      <td>BLACK/AFRICAN AMERICAN</td>\n",
       "      <td>EMERGENCY</td>\n",
       "      <td>EMERGENCY ROOM ADMIT</td>\n",
       "      <td>Medicare</td>\n",
       "      <td>PROTESTANT QUAKER</td>\n",
       "      <td>SINGLE</td>\n",
       "      <td>MICU</td>\n",
       "      <td>MICU</td>\n",
       "      <td>15.0</td>\n",
       "      <td>15.0</td>\n",
       "      <td>2.1430</td>\n",
       "      <td>M</td>\n",
       "      <td>2091-09-11</td>\n",
       "    </tr>\n",
       "    <tr>\n",
       "      <th>1</th>\n",
       "      <td>4096</td>\n",
       "      <td>7</td>\n",
       "      <td>25000</td>\n",
       "      <td>161677</td>\n",
       "      <td>2170-06-05 19:49:00</td>\n",
       "      <td>2170-06-22 16:00:00</td>\n",
       "      <td>NaT</td>\n",
       "      <td>BLACK/AFRICAN AMERICAN</td>\n",
       "      <td>EMERGENCY</td>\n",
       "      <td>EMERGENCY ROOM ADMIT</td>\n",
       "      <td>Medicare</td>\n",
       "      <td>PROTESTANT QUAKER</td>\n",
       "      <td>SINGLE</td>\n",
       "      <td>SICU</td>\n",
       "      <td>SICU</td>\n",
       "      <td>33.0</td>\n",
       "      <td>33.0</td>\n",
       "      <td>1.0524</td>\n",
       "      <td>M</td>\n",
       "      <td>2091-09-11</td>\n",
       "    </tr>\n",
       "    <tr>\n",
       "      <th>2</th>\n",
       "      <td>4096</td>\n",
       "      <td>7</td>\n",
       "      <td>25000</td>\n",
       "      <td>124383</td>\n",
       "      <td>2170-07-20 18:09:00</td>\n",
       "      <td>2170-07-26 13:30:00</td>\n",
       "      <td>NaT</td>\n",
       "      <td>BLACK/AFRICAN AMERICAN</td>\n",
       "      <td>EMERGENCY</td>\n",
       "      <td>EMERGENCY ROOM ADMIT</td>\n",
       "      <td>Medicare</td>\n",
       "      <td>PROTESTANT QUAKER</td>\n",
       "      <td>SINGLE</td>\n",
       "      <td>MICU</td>\n",
       "      <td>MICU</td>\n",
       "      <td>15.0</td>\n",
       "      <td>15.0</td>\n",
       "      <td>2.1430</td>\n",
       "      <td>M</td>\n",
       "      <td>2091-09-11</td>\n",
       "    </tr>\n",
       "    <tr>\n",
       "      <th>3</th>\n",
       "      <td>4096</td>\n",
       "      <td>7</td>\n",
       "      <td>25000</td>\n",
       "      <td>124383</td>\n",
       "      <td>2170-07-20 18:09:00</td>\n",
       "      <td>2170-07-26 13:30:00</td>\n",
       "      <td>NaT</td>\n",
       "      <td>BLACK/AFRICAN AMERICAN</td>\n",
       "      <td>EMERGENCY</td>\n",
       "      <td>EMERGENCY ROOM ADMIT</td>\n",
       "      <td>Medicare</td>\n",
       "      <td>PROTESTANT QUAKER</td>\n",
       "      <td>SINGLE</td>\n",
       "      <td>SICU</td>\n",
       "      <td>SICU</td>\n",
       "      <td>33.0</td>\n",
       "      <td>33.0</td>\n",
       "      <td>1.0524</td>\n",
       "      <td>M</td>\n",
       "      <td>2091-09-11</td>\n",
       "    </tr>\n",
       "    <tr>\n",
       "      <th>4</th>\n",
       "      <td>4864</td>\n",
       "      <td>3</td>\n",
       "      <td>25000</td>\n",
       "      <td>199793</td>\n",
       "      <td>2143-08-23 07:15:00</td>\n",
       "      <td>2143-08-28 13:15:00</td>\n",
       "      <td>NaT</td>\n",
       "      <td>WHITE</td>\n",
       "      <td>ELECTIVE</td>\n",
       "      <td>PHYS REFERRAL/NORMAL DELI</td>\n",
       "      <td>Private</td>\n",
       "      <td>CATHOLIC</td>\n",
       "      <td>MARRIED</td>\n",
       "      <td>CSRU</td>\n",
       "      <td>CSRU</td>\n",
       "      <td>14.0</td>\n",
       "      <td>14.0</td>\n",
       "      <td>3.0328</td>\n",
       "      <td>M</td>\n",
       "      <td>2090-03-11</td>\n",
       "    </tr>\n",
       "    <tr>\n",
       "      <th>5</th>\n",
       "      <td>7936</td>\n",
       "      <td>13</td>\n",
       "      <td>25000</td>\n",
       "      <td>102376</td>\n",
       "      <td>2157-10-15 15:03:00</td>\n",
       "      <td>2157-10-20 14:31:00</td>\n",
       "      <td>NaT</td>\n",
       "      <td>WHITE</td>\n",
       "      <td>EMERGENCY</td>\n",
       "      <td>CLINIC REFERRAL/PREMATURE</td>\n",
       "      <td>Medicare</td>\n",
       "      <td>JEWISH</td>\n",
       "      <td>MARRIED</td>\n",
       "      <td>CSRU</td>\n",
       "      <td>CSRU</td>\n",
       "      <td>14.0</td>\n",
       "      <td>14.0</td>\n",
       "      <td>1.1451</td>\n",
       "      <td>M</td>\n",
       "      <td>1849-06-23</td>\n",
       "    </tr>\n",
       "  </tbody>\n",
       "</table>\n",
       "</div>\n",
       "      <button class=\"colab-df-convert\" onclick=\"convertToInteractive('df-da6d46c7-774b-4c1b-a431-86534f47cc43')\"\n",
       "              title=\"Convert this dataframe to an interactive table.\"\n",
       "              style=\"display:none;\">\n",
       "        \n",
       "  <svg xmlns=\"http://www.w3.org/2000/svg\" height=\"24px\"viewBox=\"0 0 24 24\"\n",
       "       width=\"24px\">\n",
       "    <path d=\"M0 0h24v24H0V0z\" fill=\"none\"/>\n",
       "    <path d=\"M18.56 5.44l.94 2.06.94-2.06 2.06-.94-2.06-.94-.94-2.06-.94 2.06-2.06.94zm-11 1L8.5 8.5l.94-2.06 2.06-.94-2.06-.94L8.5 2.5l-.94 2.06-2.06.94zm10 10l.94 2.06.94-2.06 2.06-.94-2.06-.94-.94-2.06-.94 2.06-2.06.94z\"/><path d=\"M17.41 7.96l-1.37-1.37c-.4-.4-.92-.59-1.43-.59-.52 0-1.04.2-1.43.59L10.3 9.45l-7.72 7.72c-.78.78-.78 2.05 0 2.83L4 21.41c.39.39.9.59 1.41.59.51 0 1.02-.2 1.41-.59l7.78-7.78 2.81-2.81c.8-.78.8-2.07 0-2.86zM5.41 20L4 18.59l7.72-7.72 1.47 1.35L5.41 20z\"/>\n",
       "  </svg>\n",
       "      </button>\n",
       "      \n",
       "  <style>\n",
       "    .colab-df-container {\n",
       "      display:flex;\n",
       "      flex-wrap:wrap;\n",
       "      gap: 12px;\n",
       "    }\n",
       "\n",
       "    .colab-df-convert {\n",
       "      background-color: #E8F0FE;\n",
       "      border: none;\n",
       "      border-radius: 50%;\n",
       "      cursor: pointer;\n",
       "      display: none;\n",
       "      fill: #1967D2;\n",
       "      height: 32px;\n",
       "      padding: 0 0 0 0;\n",
       "      width: 32px;\n",
       "    }\n",
       "\n",
       "    .colab-df-convert:hover {\n",
       "      background-color: #E2EBFA;\n",
       "      box-shadow: 0px 1px 2px rgba(60, 64, 67, 0.3), 0px 1px 3px 1px rgba(60, 64, 67, 0.15);\n",
       "      fill: #174EA6;\n",
       "    }\n",
       "\n",
       "    [theme=dark] .colab-df-convert {\n",
       "      background-color: #3B4455;\n",
       "      fill: #D2E3FC;\n",
       "    }\n",
       "\n",
       "    [theme=dark] .colab-df-convert:hover {\n",
       "      background-color: #434B5C;\n",
       "      box-shadow: 0px 1px 3px 1px rgba(0, 0, 0, 0.15);\n",
       "      filter: drop-shadow(0px 1px 2px rgba(0, 0, 0, 0.3));\n",
       "      fill: #FFFFFF;\n",
       "    }\n",
       "  </style>\n",
       "\n",
       "      <script>\n",
       "        const buttonEl =\n",
       "          document.querySelector('#df-da6d46c7-774b-4c1b-a431-86534f47cc43 button.colab-df-convert');\n",
       "        buttonEl.style.display =\n",
       "          google.colab.kernel.accessAllowed ? 'block' : 'none';\n",
       "\n",
       "        async function convertToInteractive(key) {\n",
       "          const element = document.querySelector('#df-da6d46c7-774b-4c1b-a431-86534f47cc43');\n",
       "          const dataTable =\n",
       "            await google.colab.kernel.invokeFunction('convertToInteractive',\n",
       "                                                     [key], {});\n",
       "          if (!dataTable) return;\n",
       "\n",
       "          const docLinkHtml = 'Like what you see? Visit the ' +\n",
       "            '<a target=\"_blank\" href=https://colab.research.google.com/notebooks/data_table.ipynb>data table notebook</a>'\n",
       "            + ' to learn more about interactive tables.';\n",
       "          element.innerHTML = '';\n",
       "          dataTable['output_type'] = 'display_data';\n",
       "          await google.colab.output.renderOutput(dataTable, element);\n",
       "          const docLink = document.createElement('div');\n",
       "          docLink.innerHTML = docLinkHtml;\n",
       "          element.appendChild(docLink);\n",
       "        }\n",
       "      </script>\n",
       "    </div>\n",
       "  </div>\n",
       "  "
      ],
      "text/plain": [
       "   SUBJECT_ID  SEQ_NUM ICD9_CODE  HADM_ID           ADMITTIME  \\\n",
       "0        4096        7     25000   161677 2170-06-05 19:49:00   \n",
       "1        4096        7     25000   161677 2170-06-05 19:49:00   \n",
       "2        4096        7     25000   124383 2170-07-20 18:09:00   \n",
       "3        4096        7     25000   124383 2170-07-20 18:09:00   \n",
       "4        4864        3     25000   199793 2143-08-23 07:15:00   \n",
       "5        7936       13     25000   102376 2157-10-15 15:03:00   \n",
       "\n",
       "            DISCHTIME DEATHTIME               ETHNICITY ADMISSION_TYPE  \\\n",
       "0 2170-06-22 16:00:00       NaT  BLACK/AFRICAN AMERICAN      EMERGENCY   \n",
       "1 2170-06-22 16:00:00       NaT  BLACK/AFRICAN AMERICAN      EMERGENCY   \n",
       "2 2170-07-26 13:30:00       NaT  BLACK/AFRICAN AMERICAN      EMERGENCY   \n",
       "3 2170-07-26 13:30:00       NaT  BLACK/AFRICAN AMERICAN      EMERGENCY   \n",
       "4 2143-08-28 13:15:00       NaT                   WHITE       ELECTIVE   \n",
       "5 2157-10-20 14:31:00       NaT                   WHITE      EMERGENCY   \n",
       "\n",
       "          ADMISSION_LOCATION INSURANCE           RELIGION MARITAL_STATUS  \\\n",
       "0       EMERGENCY ROOM ADMIT  Medicare  PROTESTANT QUAKER         SINGLE   \n",
       "1       EMERGENCY ROOM ADMIT  Medicare  PROTESTANT QUAKER         SINGLE   \n",
       "2       EMERGENCY ROOM ADMIT  Medicare  PROTESTANT QUAKER         SINGLE   \n",
       "3       EMERGENCY ROOM ADMIT  Medicare  PROTESTANT QUAKER         SINGLE   \n",
       "4  PHYS REFERRAL/NORMAL DELI   Private           CATHOLIC        MARRIED   \n",
       "5  CLINIC REFERRAL/PREMATURE  Medicare             JEWISH        MARRIED   \n",
       "\n",
       "  FIRST_CAREUNIT LAST_CAREUNIT  FIRST_WARDID  LAST_WARDID     LOS GENDER  \\\n",
       "0           MICU          MICU          15.0         15.0  2.1430      M   \n",
       "1           SICU          SICU          33.0         33.0  1.0524      M   \n",
       "2           MICU          MICU          15.0         15.0  2.1430      M   \n",
       "3           SICU          SICU          33.0         33.0  1.0524      M   \n",
       "4           CSRU          CSRU          14.0         14.0  3.0328      M   \n",
       "5           CSRU          CSRU          14.0         14.0  1.1451      M   \n",
       "\n",
       "         DOB  \n",
       "0 2091-09-11  \n",
       "1 2091-09-11  \n",
       "2 2091-09-11  \n",
       "3 2091-09-11  \n",
       "4 2090-03-11  \n",
       "5 1849-06-23  "
      ]
     },
     "execution_count": 77,
     "metadata": {},
     "output_type": "execute_result"
    }
   ],
   "source": [
    "merged.head(6)"
   ]
  },
  {
   "cell_type": "code",
   "execution_count": null,
   "id": "UCKb3bZDVRpy",
   "metadata": {
    "colab": {
     "base_uri": "https://localhost:8080/"
    },
    "executionInfo": {
     "elapsed": 332,
     "status": "ok",
     "timestamp": 1653738661952,
     "user": {
      "displayName": "tanjil hasan",
      "userId": "01226942888917073947"
     },
     "user_tz": -120
    },
    "id": "UCKb3bZDVRpy",
    "outputId": "4eaab232-be7e-4899-dbd2-517f9846a37f"
   },
   "outputs": [
    {
     "data": {
      "text/plain": [
       "Index(['SUBJECT_ID', 'SEQ_NUM', 'ICD9_CODE', 'HADM_ID', 'ADMITTIME',\n",
       "       'DISCHTIME', 'DEATHTIME', 'ETHNICITY', 'ADMISSION_TYPE',\n",
       "       'ADMISSION_LOCATION', 'INSURANCE', 'RELIGION', 'MARITAL_STATUS',\n",
       "       'FIRST_CAREUNIT', 'LAST_CAREUNIT', 'FIRST_WARDID', 'LAST_WARDID', 'LOS',\n",
       "       'GENDER', 'DOB'],\n",
       "      dtype='object')"
      ]
     },
     "execution_count": 78,
     "metadata": {},
     "output_type": "execute_result"
    }
   ],
   "source": [
    "merged.columns"
   ]
  },
  {
   "cell_type": "code",
   "execution_count": null,
   "id": "lBxjQK5FGZVj",
   "metadata": {
    "id": "lBxjQK5FGZVj"
   },
   "outputs": [],
   "source": []
  },
  {
   "cell_type": "code",
   "execution_count": null,
   "id": "h08GBugb1VDm",
   "metadata": {
    "colab": {
     "base_uri": "https://localhost:8080/"
    },
    "executionInfo": {
     "elapsed": 267,
     "status": "ok",
     "timestamp": 1653738664851,
     "user": {
      "displayName": "tanjil hasan",
      "userId": "01226942888917073947"
     },
     "user_tz": -120
    },
    "id": "h08GBugb1VDm",
    "outputId": "2c5ef825-07df-4098-e27e-53ea053e045d"
   },
   "outputs": [
    {
     "data": {
      "text/plain": [
       "SUBJECT_ID                0\n",
       "SEQ_NUM                   0\n",
       "ICD9_CODE                 0\n",
       "HADM_ID                   0\n",
       "ADMITTIME                 0\n",
       "DISCHTIME                 0\n",
       "DEATHTIME             66578\n",
       "ETHNICITY                 0\n",
       "ADMISSION_TYPE            0\n",
       "ADMISSION_LOCATION        0\n",
       "INSURANCE                 0\n",
       "RELIGION                127\n",
       "MARITAL_STATUS          640\n",
       "FIRST_CAREUNIT            7\n",
       "LAST_CAREUNIT             7\n",
       "FIRST_WARDID              7\n",
       "LAST_WARDID               7\n",
       "LOS                       7\n",
       "GENDER                    0\n",
       "DOB                       0\n",
       "dtype: int64"
      ]
     },
     "execution_count": 79,
     "metadata": {},
     "output_type": "execute_result"
    }
   ],
   "source": [
    "merged.isnull().sum()"
   ]
  },
  {
   "cell_type": "markdown",
   "id": "bs9vqHWaFiO_",
   "metadata": {
    "id": "bs9vqHWaFiO_"
   },
   "source": [
    "# Data Exploration and Analysis\n",
    "\n",
    "\n",
    "Here we will ease the dataset and distribution of the data in their dataframe , in addition we have to masure LOS and have to find out the features that are useful or have influnce to predict our target class. Our target class is Length of stay (LOS)\n"
   ]
  },
  {
   "cell_type": "code",
   "execution_count": null,
   "id": "--YnFFOeMC19",
   "metadata": {
    "id": "--YnFFOeMC19"
   },
   "outputs": [],
   "source": [
    "def namestr(obj, namespace):\n",
    "    return [name for name in namespace if namespace[name] is obj]"
   ]
  },
  {
   "cell_type": "code",
   "execution_count": null,
   "id": "fPG45Jb6Gjcw",
   "metadata": {
    "colab": {
     "base_uri": "https://localhost:8080/"
    },
    "executionInfo": {
     "elapsed": 7,
     "status": "ok",
     "timestamp": 1653738679709,
     "user": {
      "displayName": "tanjil hasan",
      "userId": "01226942888917073947"
     },
     "user_tz": -120
    },
    "id": "fPG45Jb6Gjcw",
    "outputId": "54ab8a7e-c017-4bde-8f88-cd3cdf1ddb31"
   },
   "outputs": [
    {
     "name": "stdout",
     "output_type": "stream",
     "text": [
      "Data Frame: \t diag_icd_df i\n",
      "<class 'pandas.core.frame.DataFrame'>\n",
      "RangeIndex: 9058 entries, 0 to 9057\n",
      "Data columns (total 3 columns):\n",
      " #   Column      Non-Null Count  Dtype \n",
      "---  ------      --------------  ----- \n",
      " 0   SUBJECT_ID  9058 non-null   int64 \n",
      " 1   SEQ_NUM     9058 non-null   int64 \n",
      " 2   ICD9_CODE   9058 non-null   object\n",
      "dtypes: int64(2), object(1)\n",
      "memory usage: 212.4+ KB\n",
      "\n",
      "\n",
      "\t\t None\n",
      "Data Frame: \t admission_df i\n",
      "<class 'pandas.core.frame.DataFrame'>\n",
      "RangeIndex: 11183 entries, 0 to 11182\n",
      "Data columns (total 11 columns):\n",
      " #   Column              Non-Null Count  Dtype         \n",
      "---  ------              --------------  -----         \n",
      " 0   HADM_ID             11183 non-null  int64         \n",
      " 1   SUBJECT_ID          11183 non-null  int64         \n",
      " 2   ADMITTIME           11183 non-null  datetime64[ns]\n",
      " 3   DISCHTIME           11183 non-null  datetime64[ns]\n",
      " 4   DEATHTIME           1201 non-null   datetime64[ns]\n",
      " 5   ETHNICITY           11183 non-null  object        \n",
      " 6   ADMISSION_TYPE      11183 non-null  object        \n",
      " 7   ADMISSION_LOCATION  11183 non-null  object        \n",
      " 8   INSURANCE           11183 non-null  object        \n",
      " 9   RELIGION            11111 non-null  object        \n",
      " 10  MARITAL_STATUS      10793 non-null  object        \n",
      "dtypes: datetime64[ns](3), int64(2), object(6)\n",
      "memory usage: 961.2+ KB\n",
      "\n",
      "\n",
      "\t\t None\n",
      "Data Frame: \t icu_stay_df i\n",
      "<class 'pandas.core.frame.DataFrame'>\n",
      "RangeIndex: 11771 entries, 0 to 11770\n",
      "Data columns (total 6 columns):\n",
      " #   Column          Non-Null Count  Dtype  \n",
      "---  ------          --------------  -----  \n",
      " 0   SUBJECT_ID      11771 non-null  int64  \n",
      " 1   FIRST_CAREUNIT  11771 non-null  object \n",
      " 2   LAST_CAREUNIT   11771 non-null  object \n",
      " 3   FIRST_WARDID    11771 non-null  int64  \n",
      " 4   LAST_WARDID     11771 non-null  int64  \n",
      " 5   LOS             11771 non-null  float64\n",
      "dtypes: float64(1), int64(3), object(2)\n",
      "memory usage: 551.9+ KB\n",
      "\n",
      "\n",
      "\t\t None\n",
      "Data Frame: \t paitents_df i\n",
      "<class 'pandas.core.frame.DataFrame'>\n",
      "RangeIndex: 7370 entries, 0 to 7369\n",
      "Data columns (total 3 columns):\n",
      " #   Column      Non-Null Count  Dtype         \n",
      "---  ------      --------------  -----         \n",
      " 0   SUBJECT_ID  7370 non-null   int64         \n",
      " 1   GENDER      7370 non-null   object        \n",
      " 2   DOB         7370 non-null   datetime64[ns]\n",
      "dtypes: datetime64[ns](1), int64(1), object(1)\n",
      "memory usage: 172.9+ KB\n",
      "\n",
      "\n",
      "\t\t None\n"
     ]
    }
   ],
   "source": [
    "for i in frame_list:\n",
    "  print(\"Data Frame: \\t\",*namestr(i, globals()),sep=' ')\n",
    "  print(\"\\n\\n\\t\\t\",i.info())"
   ]
  },
  {
   "cell_type": "code",
   "execution_count": null,
   "id": "ww4IpRz51VJS",
   "metadata": {
    "colab": {
     "base_uri": "https://localhost:8080/"
    },
    "executionInfo": {
     "elapsed": 216,
     "status": "ok",
     "timestamp": 1653738684750,
     "user": {
      "displayName": "tanjil hasan",
      "userId": "01226942888917073947"
     },
     "user_tz": -120
    },
    "id": "ww4IpRz51VJS",
    "outputId": "810ce937-9a3b-4860-a0b1-ea9a68cda11d"
   },
   "outputs": [
    {
     "name": "stdout",
     "output_type": "stream",
     "text": [
      "Data Frame: \t diag_icd_df\n",
      "The number of unique paitents: \t 7370\n",
      "\n",
      "Data Frame: \t admission_df\n",
      "The number of unique events: \t 11183\n",
      "The number of unique paitents: \t 7370\n",
      "\n",
      "Data Frame: \t icu_stay_df\n",
      "The number of unique paitents: \t 7363\n",
      "\n",
      "Data Frame: \t paitents_df\n",
      "The number of unique paitents: \t 7370\n",
      "\n"
     ]
    }
   ],
   "source": [
    "for i in range(0,len(frame_list)):\n",
    "  print(\"Data Frame: \\t\",*namestr(frame_list[i], globals()),sep=' ')\n",
    "  if i==1:\n",
    "    print(f\"The number of unique events: \\t {len(frame_list[i]['HADM_ID'].unique())}\")\n",
    "  print(f\"The number of unique paitents: \\t {len(frame_list[i]['SUBJECT_ID'].unique())}\\n\")"
   ]
  },
  {
   "cell_type": "markdown",
   "id": "p8D7DiHrXEdk",
   "metadata": {
    "id": "p8D7DiHrXEdk"
   },
   "source": [
    "## LOS ( length of stay measurement)\n",
    "\n",
    "from the admission table time diffenrences between admission and discharge is the length of stay of a paitnet"
   ]
  },
  {
   "cell_type": "code",
   "execution_count": null,
   "id": "50rbOv55VUQ-",
   "metadata": {
    "id": "50rbOv55VUQ-"
   },
   "outputs": [],
   "source": [
    "FULL_LOS = [(merged['DISCHTIME'][i] - merged['ADMITTIME'][i]).days for i in merged.index]"
   ]
  },
  {
   "cell_type": "code",
   "execution_count": null,
   "id": "zTGIuAYaXk1f",
   "metadata": {
    "id": "zTGIuAYaXk1f"
   },
   "outputs": [],
   "source": [
    "merged['FULL_LOS'] = FULL_LOS"
   ]
  },
  {
   "cell_type": "code",
   "execution_count": null,
   "id": "rYCtKZQvcKkp",
   "metadata": {
    "colab": {
     "base_uri": "https://localhost:8080/",
     "height": 206
    },
    "executionInfo": {
     "elapsed": 12,
     "status": "ok",
     "timestamp": 1653738694956,
     "user": {
      "displayName": "tanjil hasan",
      "userId": "01226942888917073947"
     },
     "user_tz": -120
    },
    "id": "rYCtKZQvcKkp",
    "outputId": "b1b59b0a-14f7-4936-a5ae-78630c3a7794"
   },
   "outputs": [
    {
     "data": {
      "text/html": [
       "\n",
       "  <div id=\"df-1f99fe61-4699-44d7-a3ce-e2f59ccb2db9\">\n",
       "    <div class=\"colab-df-container\">\n",
       "      <div>\n",
       "<style scoped>\n",
       "    .dataframe tbody tr th:only-of-type {\n",
       "        vertical-align: middle;\n",
       "    }\n",
       "\n",
       "    .dataframe tbody tr th {\n",
       "        vertical-align: top;\n",
       "    }\n",
       "\n",
       "    .dataframe thead th {\n",
       "        text-align: right;\n",
       "    }\n",
       "</style>\n",
       "<table border=\"1\" class=\"dataframe\">\n",
       "  <thead>\n",
       "    <tr style=\"text-align: right;\">\n",
       "      <th></th>\n",
       "      <th>DISCHTIME</th>\n",
       "      <th>ADMITTIME</th>\n",
       "      <th>FULL_LOS</th>\n",
       "    </tr>\n",
       "  </thead>\n",
       "  <tbody>\n",
       "    <tr>\n",
       "      <th>0</th>\n",
       "      <td>2170-06-22 16:00:00</td>\n",
       "      <td>2170-06-05 19:49:00</td>\n",
       "      <td>16</td>\n",
       "    </tr>\n",
       "    <tr>\n",
       "      <th>1</th>\n",
       "      <td>2170-06-22 16:00:00</td>\n",
       "      <td>2170-06-05 19:49:00</td>\n",
       "      <td>16</td>\n",
       "    </tr>\n",
       "    <tr>\n",
       "      <th>2</th>\n",
       "      <td>2170-07-26 13:30:00</td>\n",
       "      <td>2170-07-20 18:09:00</td>\n",
       "      <td>5</td>\n",
       "    </tr>\n",
       "    <tr>\n",
       "      <th>3</th>\n",
       "      <td>2170-07-26 13:30:00</td>\n",
       "      <td>2170-07-20 18:09:00</td>\n",
       "      <td>5</td>\n",
       "    </tr>\n",
       "    <tr>\n",
       "      <th>4</th>\n",
       "      <td>2143-08-28 13:15:00</td>\n",
       "      <td>2143-08-23 07:15:00</td>\n",
       "      <td>5</td>\n",
       "    </tr>\n",
       "  </tbody>\n",
       "</table>\n",
       "</div>\n",
       "      <button class=\"colab-df-convert\" onclick=\"convertToInteractive('df-1f99fe61-4699-44d7-a3ce-e2f59ccb2db9')\"\n",
       "              title=\"Convert this dataframe to an interactive table.\"\n",
       "              style=\"display:none;\">\n",
       "        \n",
       "  <svg xmlns=\"http://www.w3.org/2000/svg\" height=\"24px\"viewBox=\"0 0 24 24\"\n",
       "       width=\"24px\">\n",
       "    <path d=\"M0 0h24v24H0V0z\" fill=\"none\"/>\n",
       "    <path d=\"M18.56 5.44l.94 2.06.94-2.06 2.06-.94-2.06-.94-.94-2.06-.94 2.06-2.06.94zm-11 1L8.5 8.5l.94-2.06 2.06-.94-2.06-.94L8.5 2.5l-.94 2.06-2.06.94zm10 10l.94 2.06.94-2.06 2.06-.94-2.06-.94-.94-2.06-.94 2.06-2.06.94z\"/><path d=\"M17.41 7.96l-1.37-1.37c-.4-.4-.92-.59-1.43-.59-.52 0-1.04.2-1.43.59L10.3 9.45l-7.72 7.72c-.78.78-.78 2.05 0 2.83L4 21.41c.39.39.9.59 1.41.59.51 0 1.02-.2 1.41-.59l7.78-7.78 2.81-2.81c.8-.78.8-2.07 0-2.86zM5.41 20L4 18.59l7.72-7.72 1.47 1.35L5.41 20z\"/>\n",
       "  </svg>\n",
       "      </button>\n",
       "      \n",
       "  <style>\n",
       "    .colab-df-container {\n",
       "      display:flex;\n",
       "      flex-wrap:wrap;\n",
       "      gap: 12px;\n",
       "    }\n",
       "\n",
       "    .colab-df-convert {\n",
       "      background-color: #E8F0FE;\n",
       "      border: none;\n",
       "      border-radius: 50%;\n",
       "      cursor: pointer;\n",
       "      display: none;\n",
       "      fill: #1967D2;\n",
       "      height: 32px;\n",
       "      padding: 0 0 0 0;\n",
       "      width: 32px;\n",
       "    }\n",
       "\n",
       "    .colab-df-convert:hover {\n",
       "      background-color: #E2EBFA;\n",
       "      box-shadow: 0px 1px 2px rgba(60, 64, 67, 0.3), 0px 1px 3px 1px rgba(60, 64, 67, 0.15);\n",
       "      fill: #174EA6;\n",
       "    }\n",
       "\n",
       "    [theme=dark] .colab-df-convert {\n",
       "      background-color: #3B4455;\n",
       "      fill: #D2E3FC;\n",
       "    }\n",
       "\n",
       "    [theme=dark] .colab-df-convert:hover {\n",
       "      background-color: #434B5C;\n",
       "      box-shadow: 0px 1px 3px 1px rgba(0, 0, 0, 0.15);\n",
       "      filter: drop-shadow(0px 1px 2px rgba(0, 0, 0, 0.3));\n",
       "      fill: #FFFFFF;\n",
       "    }\n",
       "  </style>\n",
       "\n",
       "      <script>\n",
       "        const buttonEl =\n",
       "          document.querySelector('#df-1f99fe61-4699-44d7-a3ce-e2f59ccb2db9 button.colab-df-convert');\n",
       "        buttonEl.style.display =\n",
       "          google.colab.kernel.accessAllowed ? 'block' : 'none';\n",
       "\n",
       "        async function convertToInteractive(key) {\n",
       "          const element = document.querySelector('#df-1f99fe61-4699-44d7-a3ce-e2f59ccb2db9');\n",
       "          const dataTable =\n",
       "            await google.colab.kernel.invokeFunction('convertToInteractive',\n",
       "                                                     [key], {});\n",
       "          if (!dataTable) return;\n",
       "\n",
       "          const docLinkHtml = 'Like what you see? Visit the ' +\n",
       "            '<a target=\"_blank\" href=https://colab.research.google.com/notebooks/data_table.ipynb>data table notebook</a>'\n",
       "            + ' to learn more about interactive tables.';\n",
       "          element.innerHTML = '';\n",
       "          dataTable['output_type'] = 'display_data';\n",
       "          await google.colab.output.renderOutput(dataTable, element);\n",
       "          const docLink = document.createElement('div');\n",
       "          docLink.innerHTML = docLinkHtml;\n",
       "          element.appendChild(docLink);\n",
       "        }\n",
       "      </script>\n",
       "    </div>\n",
       "  </div>\n",
       "  "
      ],
      "text/plain": [
       "            DISCHTIME           ADMITTIME  FULL_LOS\n",
       "0 2170-06-22 16:00:00 2170-06-05 19:49:00        16\n",
       "1 2170-06-22 16:00:00 2170-06-05 19:49:00        16\n",
       "2 2170-07-26 13:30:00 2170-07-20 18:09:00         5\n",
       "3 2170-07-26 13:30:00 2170-07-20 18:09:00         5\n",
       "4 2143-08-28 13:15:00 2143-08-23 07:15:00         5"
      ]
     },
     "execution_count": 85,
     "metadata": {},
     "output_type": "execute_result"
    }
   ],
   "source": [
    "merged[['DISCHTIME','ADMITTIME','FULL_LOS']].head(5)"
   ]
  },
  {
   "cell_type": "code",
   "execution_count": null,
   "id": "jrl3o_tFYfDp",
   "metadata": {
    "colab": {
     "base_uri": "https://localhost:8080/"
    },
    "executionInfo": {
     "elapsed": 314,
     "status": "ok",
     "timestamp": 1653738697173,
     "user": {
      "displayName": "tanjil hasan",
      "userId": "01226942888917073947"
     },
     "user_tz": -120
    },
    "id": "jrl3o_tFYfDp",
    "outputId": "20f883c1-02ef-43dc-80a0-b3ca45a135a2"
   },
   "outputs": [
    {
     "data": {
      "text/plain": [
       "5815    -1\n",
       "11280   -1\n",
       "21783   -1\n",
       "21798   -1\n",
       "21799   -1\n",
       "21802   -1\n",
       "21803   -1\n",
       "23705   -1\n",
       "30165   -1\n",
       "35538   -1\n",
       "36337   -1\n",
       "42328   -1\n",
       "42329   -1\n",
       "42330   -1\n",
       "42331   -1\n",
       "42332   -1\n",
       "42333   -1\n",
       "42334   -1\n",
       "42377   -1\n",
       "42378   -1\n",
       "42379   -1\n",
       "42380   -1\n",
       "42381   -1\n",
       "42382   -1\n",
       "42383   -1\n",
       "42426   -1\n",
       "42427   -1\n",
       "42428   -1\n",
       "42429   -1\n",
       "42430   -1\n",
       "42431   -1\n",
       "42432   -1\n",
       "44039   -1\n",
       "56734   -1\n",
       "Name: FULL_LOS, dtype: int64"
      ]
     },
     "execution_count": 86,
     "metadata": {},
     "output_type": "execute_result"
    }
   ],
   "source": [
    "merged[merged['FULL_LOS']<0]['FULL_LOS']"
   ]
  },
  {
   "cell_type": "code",
   "execution_count": null,
   "id": "FdHOE2MsaQKf",
   "metadata": {
    "colab": {
     "base_uri": "https://localhost:8080/"
    },
    "executionInfo": {
     "elapsed": 251,
     "status": "ok",
     "timestamp": 1653738698884,
     "user": {
      "displayName": "tanjil hasan",
      "userId": "01226942888917073947"
     },
     "user_tz": -120
    },
    "id": "FdHOE2MsaQKf",
    "outputId": "7be30c0a-a51f-45f9-a0e9-e04e5058b10f"
   },
   "outputs": [
    {
     "data": {
      "text/plain": [
       "(70410, 21)"
      ]
     },
     "execution_count": 87,
     "metadata": {},
     "output_type": "execute_result"
    }
   ],
   "source": [
    "prev_shape=merged.shape\n",
    "prev_shape"
   ]
  },
  {
   "cell_type": "code",
   "execution_count": null,
   "id": "I6ulTwOEZigM",
   "metadata": {
    "colab": {
     "base_uri": "https://localhost:8080/",
     "height": 341
    },
    "executionInfo": {
     "elapsed": 12,
     "status": "ok",
     "timestamp": 1653738699845,
     "user": {
      "displayName": "tanjil hasan",
      "userId": "01226942888917073947"
     },
     "user_tz": -120
    },
    "id": "I6ulTwOEZigM",
    "outputId": "08663272-837a-4c12-ea05-09ebc5d9e71b"
   },
   "outputs": [
    {
     "data": {
      "text/html": [
       "\n",
       "  <div id=\"df-885e734a-9901-4920-ac52-a742dbf38339\">\n",
       "    <div class=\"colab-df-container\">\n",
       "      <div>\n",
       "<style scoped>\n",
       "    .dataframe tbody tr th:only-of-type {\n",
       "        vertical-align: middle;\n",
       "    }\n",
       "\n",
       "    .dataframe tbody tr th {\n",
       "        vertical-align: top;\n",
       "    }\n",
       "\n",
       "    .dataframe thead th {\n",
       "        text-align: right;\n",
       "    }\n",
       "</style>\n",
       "<table border=\"1\" class=\"dataframe\">\n",
       "  <thead>\n",
       "    <tr style=\"text-align: right;\">\n",
       "      <th></th>\n",
       "      <th>SUBJECT_ID</th>\n",
       "      <th>SEQ_NUM</th>\n",
       "      <th>ICD9_CODE</th>\n",
       "      <th>HADM_ID</th>\n",
       "      <th>ADMITTIME</th>\n",
       "      <th>DISCHTIME</th>\n",
       "      <th>DEATHTIME</th>\n",
       "      <th>ETHNICITY</th>\n",
       "      <th>ADMISSION_TYPE</th>\n",
       "      <th>ADMISSION_LOCATION</th>\n",
       "      <th>...</th>\n",
       "      <th>RELIGION</th>\n",
       "      <th>MARITAL_STATUS</th>\n",
       "      <th>FIRST_CAREUNIT</th>\n",
       "      <th>LAST_CAREUNIT</th>\n",
       "      <th>FIRST_WARDID</th>\n",
       "      <th>LAST_WARDID</th>\n",
       "      <th>LOS</th>\n",
       "      <th>GENDER</th>\n",
       "      <th>DOB</th>\n",
       "      <th>FULL_LOS</th>\n",
       "    </tr>\n",
       "  </thead>\n",
       "  <tbody>\n",
       "    <tr>\n",
       "      <th>0</th>\n",
       "      <td>4096</td>\n",
       "      <td>7</td>\n",
       "      <td>25000</td>\n",
       "      <td>161677</td>\n",
       "      <td>2170-06-05 19:49:00</td>\n",
       "      <td>2170-06-22 16:00:00</td>\n",
       "      <td>NaT</td>\n",
       "      <td>BLACK/AFRICAN AMERICAN</td>\n",
       "      <td>EMERGENCY</td>\n",
       "      <td>EMERGENCY ROOM ADMIT</td>\n",
       "      <td>...</td>\n",
       "      <td>PROTESTANT QUAKER</td>\n",
       "      <td>SINGLE</td>\n",
       "      <td>MICU</td>\n",
       "      <td>MICU</td>\n",
       "      <td>15.0</td>\n",
       "      <td>15.0</td>\n",
       "      <td>2.1430</td>\n",
       "      <td>M</td>\n",
       "      <td>2091-09-11</td>\n",
       "      <td>16</td>\n",
       "    </tr>\n",
       "    <tr>\n",
       "      <th>1</th>\n",
       "      <td>4096</td>\n",
       "      <td>7</td>\n",
       "      <td>25000</td>\n",
       "      <td>161677</td>\n",
       "      <td>2170-06-05 19:49:00</td>\n",
       "      <td>2170-06-22 16:00:00</td>\n",
       "      <td>NaT</td>\n",
       "      <td>BLACK/AFRICAN AMERICAN</td>\n",
       "      <td>EMERGENCY</td>\n",
       "      <td>EMERGENCY ROOM ADMIT</td>\n",
       "      <td>...</td>\n",
       "      <td>PROTESTANT QUAKER</td>\n",
       "      <td>SINGLE</td>\n",
       "      <td>SICU</td>\n",
       "      <td>SICU</td>\n",
       "      <td>33.0</td>\n",
       "      <td>33.0</td>\n",
       "      <td>1.0524</td>\n",
       "      <td>M</td>\n",
       "      <td>2091-09-11</td>\n",
       "      <td>16</td>\n",
       "    </tr>\n",
       "    <tr>\n",
       "      <th>2</th>\n",
       "      <td>4096</td>\n",
       "      <td>7</td>\n",
       "      <td>25000</td>\n",
       "      <td>124383</td>\n",
       "      <td>2170-07-20 18:09:00</td>\n",
       "      <td>2170-07-26 13:30:00</td>\n",
       "      <td>NaT</td>\n",
       "      <td>BLACK/AFRICAN AMERICAN</td>\n",
       "      <td>EMERGENCY</td>\n",
       "      <td>EMERGENCY ROOM ADMIT</td>\n",
       "      <td>...</td>\n",
       "      <td>PROTESTANT QUAKER</td>\n",
       "      <td>SINGLE</td>\n",
       "      <td>MICU</td>\n",
       "      <td>MICU</td>\n",
       "      <td>15.0</td>\n",
       "      <td>15.0</td>\n",
       "      <td>2.1430</td>\n",
       "      <td>M</td>\n",
       "      <td>2091-09-11</td>\n",
       "      <td>5</td>\n",
       "    </tr>\n",
       "  </tbody>\n",
       "</table>\n",
       "<p>3 rows × 21 columns</p>\n",
       "</div>\n",
       "      <button class=\"colab-df-convert\" onclick=\"convertToInteractive('df-885e734a-9901-4920-ac52-a742dbf38339')\"\n",
       "              title=\"Convert this dataframe to an interactive table.\"\n",
       "              style=\"display:none;\">\n",
       "        \n",
       "  <svg xmlns=\"http://www.w3.org/2000/svg\" height=\"24px\"viewBox=\"0 0 24 24\"\n",
       "       width=\"24px\">\n",
       "    <path d=\"M0 0h24v24H0V0z\" fill=\"none\"/>\n",
       "    <path d=\"M18.56 5.44l.94 2.06.94-2.06 2.06-.94-2.06-.94-.94-2.06-.94 2.06-2.06.94zm-11 1L8.5 8.5l.94-2.06 2.06-.94-2.06-.94L8.5 2.5l-.94 2.06-2.06.94zm10 10l.94 2.06.94-2.06 2.06-.94-2.06-.94-.94-2.06-.94 2.06-2.06.94z\"/><path d=\"M17.41 7.96l-1.37-1.37c-.4-.4-.92-.59-1.43-.59-.52 0-1.04.2-1.43.59L10.3 9.45l-7.72 7.72c-.78.78-.78 2.05 0 2.83L4 21.41c.39.39.9.59 1.41.59.51 0 1.02-.2 1.41-.59l7.78-7.78 2.81-2.81c.8-.78.8-2.07 0-2.86zM5.41 20L4 18.59l7.72-7.72 1.47 1.35L5.41 20z\"/>\n",
       "  </svg>\n",
       "      </button>\n",
       "      \n",
       "  <style>\n",
       "    .colab-df-container {\n",
       "      display:flex;\n",
       "      flex-wrap:wrap;\n",
       "      gap: 12px;\n",
       "    }\n",
       "\n",
       "    .colab-df-convert {\n",
       "      background-color: #E8F0FE;\n",
       "      border: none;\n",
       "      border-radius: 50%;\n",
       "      cursor: pointer;\n",
       "      display: none;\n",
       "      fill: #1967D2;\n",
       "      height: 32px;\n",
       "      padding: 0 0 0 0;\n",
       "      width: 32px;\n",
       "    }\n",
       "\n",
       "    .colab-df-convert:hover {\n",
       "      background-color: #E2EBFA;\n",
       "      box-shadow: 0px 1px 2px rgba(60, 64, 67, 0.3), 0px 1px 3px 1px rgba(60, 64, 67, 0.15);\n",
       "      fill: #174EA6;\n",
       "    }\n",
       "\n",
       "    [theme=dark] .colab-df-convert {\n",
       "      background-color: #3B4455;\n",
       "      fill: #D2E3FC;\n",
       "    }\n",
       "\n",
       "    [theme=dark] .colab-df-convert:hover {\n",
       "      background-color: #434B5C;\n",
       "      box-shadow: 0px 1px 3px 1px rgba(0, 0, 0, 0.15);\n",
       "      filter: drop-shadow(0px 1px 2px rgba(0, 0, 0, 0.3));\n",
       "      fill: #FFFFFF;\n",
       "    }\n",
       "  </style>\n",
       "\n",
       "      <script>\n",
       "        const buttonEl =\n",
       "          document.querySelector('#df-885e734a-9901-4920-ac52-a742dbf38339 button.colab-df-convert');\n",
       "        buttonEl.style.display =\n",
       "          google.colab.kernel.accessAllowed ? 'block' : 'none';\n",
       "\n",
       "        async function convertToInteractive(key) {\n",
       "          const element = document.querySelector('#df-885e734a-9901-4920-ac52-a742dbf38339');\n",
       "          const dataTable =\n",
       "            await google.colab.kernel.invokeFunction('convertToInteractive',\n",
       "                                                     [key], {});\n",
       "          if (!dataTable) return;\n",
       "\n",
       "          const docLinkHtml = 'Like what you see? Visit the ' +\n",
       "            '<a target=\"_blank\" href=https://colab.research.google.com/notebooks/data_table.ipynb>data table notebook</a>'\n",
       "            + ' to learn more about interactive tables.';\n",
       "          element.innerHTML = '';\n",
       "          dataTable['output_type'] = 'display_data';\n",
       "          await google.colab.output.renderOutput(dataTable, element);\n",
       "          const docLink = document.createElement('div');\n",
       "          docLink.innerHTML = docLinkHtml;\n",
       "          element.appendChild(docLink);\n",
       "        }\n",
       "      </script>\n",
       "    </div>\n",
       "  </div>\n",
       "  "
      ],
      "text/plain": [
       "   SUBJECT_ID  SEQ_NUM ICD9_CODE  HADM_ID           ADMITTIME  \\\n",
       "0        4096        7     25000   161677 2170-06-05 19:49:00   \n",
       "1        4096        7     25000   161677 2170-06-05 19:49:00   \n",
       "2        4096        7     25000   124383 2170-07-20 18:09:00   \n",
       "\n",
       "            DISCHTIME DEATHTIME               ETHNICITY ADMISSION_TYPE  \\\n",
       "0 2170-06-22 16:00:00       NaT  BLACK/AFRICAN AMERICAN      EMERGENCY   \n",
       "1 2170-06-22 16:00:00       NaT  BLACK/AFRICAN AMERICAN      EMERGENCY   \n",
       "2 2170-07-26 13:30:00       NaT  BLACK/AFRICAN AMERICAN      EMERGENCY   \n",
       "\n",
       "     ADMISSION_LOCATION  ...           RELIGION MARITAL_STATUS FIRST_CAREUNIT  \\\n",
       "0  EMERGENCY ROOM ADMIT  ...  PROTESTANT QUAKER         SINGLE           MICU   \n",
       "1  EMERGENCY ROOM ADMIT  ...  PROTESTANT QUAKER         SINGLE           SICU   \n",
       "2  EMERGENCY ROOM ADMIT  ...  PROTESTANT QUAKER         SINGLE           MICU   \n",
       "\n",
       "  LAST_CAREUNIT FIRST_WARDID  LAST_WARDID     LOS  GENDER        DOB FULL_LOS  \n",
       "0          MICU         15.0         15.0  2.1430       M 2091-09-11       16  \n",
       "1          SICU         33.0         33.0  1.0524       M 2091-09-11       16  \n",
       "2          MICU         15.0         15.0  2.1430       M 2091-09-11        5  \n",
       "\n",
       "[3 rows x 21 columns]"
      ]
     },
     "execution_count": 88,
     "metadata": {},
     "output_type": "execute_result"
    }
   ],
   "source": [
    "#so there exists negative LOS which indicates there is problem \n",
    "# in those datapoints for perfecting the models we will drop them\n",
    "merged = merged.loc[merged['FULL_LOS']>0]\n",
    "merged.head(3)"
   ]
  },
  {
   "cell_type": "code",
   "execution_count": null,
   "id": "djfAu-c3arat",
   "metadata": {
    "colab": {
     "base_uri": "https://localhost:8080/"
    },
    "executionInfo": {
     "elapsed": 207,
     "status": "ok",
     "timestamp": 1653738701338,
     "user": {
      "displayName": "tanjil hasan",
      "userId": "01226942888917073947"
     },
     "user_tz": -120
    },
    "id": "djfAu-c3arat",
    "outputId": "0937c4e1-e373-4a24-8f1f-2af639af57a6"
   },
   "outputs": [
    {
     "name": "stdout",
     "output_type": "stream",
     "text": [
      "Number of dropped rows 1639\n"
     ]
    }
   ],
   "source": [
    "print(f\"Number of dropped rows {prev_shape[0]-merged.shape[0]}\")"
   ]
  },
  {
   "cell_type": "code",
   "execution_count": null,
   "id": "1wo0_PKxdZ0M",
   "metadata": {
    "colab": {
     "base_uri": "https://localhost:8080/",
     "height": 295
    },
    "executionInfo": {
     "elapsed": 1032,
     "status": "ok",
     "timestamp": 1653741731458,
     "user": {
      "displayName": "tanjil hasan",
      "userId": "01226942888917073947"
     },
     "user_tz": -120
    },
    "id": "1wo0_PKxdZ0M",
    "outputId": "5ffc4613-6ad0-40ba-87f8-6ddccea15fd9"
   },
   "outputs": [
    {
     "data": {
      "image/png": "[encoded data removed]",
      "text/plain": [
       "<Figure size 432x288 with 1 Axes>"
      ]
     },
     "metadata": {
      "needs_background": "light"
     },
     "output_type": "display_data"
    }
   ],
   "source": [
    "# LOS Distribution\n",
    "plt.hist(merged['FULL_LOS'], bins=200)\n",
    "plt.title('Distribution of LOS ')\n",
    "plt.xlabel('Length-of-Stay (days)')\n",
    "plt.xlim(0, 20)\n",
    "plt.show();"
   ]
  },
  {
   "cell_type": "markdown",
   "id": "GvvZgvLvezD6",
   "metadata": {
    "id": "GvvZgvLvezD6"
   },
   "source": [
    "## checking if there is any data point containing  values in death time columns , because the paitents containing  death time , they actual died while staying in hospitals thats why we will delete those  data points as they dont have length of stay becasue they were never discraged"
   ]
  },
  {
   "cell_type": "code",
   "execution_count": null,
   "id": "ln2srXkQewnM",
   "metadata": {
    "colab": {
     "base_uri": "https://localhost:8080/"
    },
    "executionInfo": {
     "elapsed": 803,
     "status": "ok",
     "timestamp": 1653739182363,
     "user": {
      "displayName": "tanjil hasan",
      "userId": "01226942888917073947"
     },
     "user_tz": -120
    },
    "id": "ln2srXkQewnM",
    "outputId": "220cd8ed-85be-452d-fa9d-f207c972c8bb"
   },
   "outputs": [
    {
     "name": "stdout",
     "output_type": "stream",
     "text": [
      " number of death case0\n"
     ]
    }
   ],
   "source": [
    "print(f\" number of death case {merged['DEATHTIME'].notnull().sum()}\")"
   ]
  },
  {
   "cell_type": "code",
   "execution_count": null,
   "id": "VRW_J3bGhV2i",
   "metadata": {
    "colab": {
     "base_uri": "https://localhost:8080/"
    },
    "executionInfo": {
     "elapsed": 233,
     "status": "ok",
     "timestamp": 1653739215240,
     "user": {
      "displayName": "tanjil hasan",
      "userId": "01226942888917073947"
     },
     "user_tz": -120
    },
    "id": "VRW_J3bGhV2i",
    "outputId": "538ca9e8-e800-491e-90b1-ba995d320a05"
   },
   "outputs": [
    {
     "data": {
      "text/plain": [
       "(65397, 21)"
      ]
     },
     "execution_count": 97,
     "metadata": {},
     "output_type": "execute_result"
    }
   ],
   "source": [
    "merged=merged.loc[merged['DEATHTIME'].isnull()==True]\n",
    "merged.shape"
   ]
  },
  {
   "cell_type": "markdown",
   "id": "7TxLnqpPpTTd",
   "metadata": {
    "id": "7TxLnqpPpTTd"
   },
   "source": [
    "## Age Calculation\n",
    "we will determine the age fron the time differnce from DOB to Admit time"
   ]
  },
  {
   "cell_type": "code",
   "execution_count": null,
   "id": "vdW9_K3NVXbM",
   "metadata": {
    "colab": {
     "base_uri": "https://localhost:8080/"
    },
    "executionInfo": {
     "elapsed": 226,
     "status": "ok",
     "timestamp": 1653741066041,
     "user": {
      "displayName": "tanjil hasan",
      "userId": "01226942888917073947"
     },
     "user_tz": -120
    },
    "id": "vdW9_K3NVXbM",
    "outputId": "97fa9aa0-e97b-4ff8-b9c4-803719d97778"
   },
   "outputs": [
    {
     "data": {
      "text/plain": [
       "datetime.datetime(2170, 7, 20, 18, 9)"
      ]
     },
     "execution_count": 98,
     "metadata": {},
     "output_type": "execute_result"
    }
   ],
   "source": [
    "from sqlite3.dbapi2 import Timestamp\n",
    "from datetime import timedelta\n",
    "dat2= merged['ADMITTIME'][2].to_pydatetime()\n",
    "dat1 =  merged['DOB'][2].to_pydatetime()\n",
    "#timedelta((merged['ADMITTIME'][2] - merged['DOB'][2]))\n",
    "dat2"
   ]
  },
  {
   "cell_type": "code",
   "execution_count": null,
   "id": "V7WRWQZLco4Z",
   "metadata": {
    "id": "V7WRWQZLco4Z"
   },
   "outputs": [],
   "source": [
    "AGE = [(merged['ADMITTIME'][i].to_pydatetime() -  merged['DOB'][i].to_pydatetime()).days for i in merged.index]"
   ]
  },
  {
   "cell_type": "code",
   "execution_count": null,
   "id": "gRpE2cUhdTwI",
   "metadata": {
    "id": "gRpE2cUhdTwI"
   },
   "outputs": [],
   "source": [
    "merged['AGE'] = AGE"
   ]
  },
  {
   "cell_type": "code",
   "execution_count": null,
   "id": "PZYTRTguqMUP",
   "metadata": {
    "colab": {
     "base_uri": "https://localhost:8080/"
    },
    "executionInfo": {
     "elapsed": 210,
     "status": "ok",
     "timestamp": 1653741539776,
     "user": {
      "displayName": "tanjil hasan",
      "userId": "01226942888917073947"
     },
     "user_tz": -120
    },
    "id": "PZYTRTguqMUP",
    "outputId": "cd3fc51a-8662-43e6-8f8c-2b50436b7731"
   },
   "outputs": [
    {
     "data": {
      "text/plain": [
       "0"
      ]
     },
     "execution_count": 114,
     "metadata": {},
     "output_type": "execute_result"
    }
   ],
   "source": [
    "#checking the exitance of negative age in days\n",
    "merged[merged['AGE']<0]['AGE'].shape[0]"
   ]
  },
  {
   "cell_type": "code",
   "execution_count": null,
   "id": "Cf8Pk4NyqaLG",
   "metadata": {
    "colab": {
     "base_uri": "https://localhost:8080/"
    },
    "executionInfo": {
     "elapsed": 199,
     "status": "ok",
     "timestamp": 1653741541350,
     "user": {
      "displayName": "tanjil hasan",
      "userId": "01226942888917073947"
     },
     "user_tz": -120
    },
    "id": "Cf8Pk4NyqaLG",
    "outputId": "a5b3251e-87dd-4812-d283-30006a268aed"
   },
   "outputs": [
    {
     "data": {
      "text/plain": [
       "2314"
      ]
     },
     "execution_count": 115,
     "metadata": {},
     "output_type": "execute_result"
    }
   ],
   "source": [
    "#checing the existance of age that is impossible in reality \n",
    "#for that we set the limit age to 100 years \n",
    "merged.loc[merged['AGE']>(100*365)]['AGE'].shape[0]"
   ]
  },
  {
   "cell_type": "code",
   "execution_count": null,
   "id": "-TZV7mxbrWpS",
   "metadata": {
    "id": "-TZV7mxbrWpS"
   },
   "outputs": [],
   "source": [
    "#droping the data points for unrealistic age\n",
    "merged= merged.loc[merged['AGE']<(100*365)]"
   ]
  },
  {
   "cell_type": "code",
   "execution_count": null,
   "id": "CR8BvFf3ptsG",
   "metadata": {
    "colab": {
     "base_uri": "https://localhost:8080/",
     "height": 295
    },
    "executionInfo": {
     "elapsed": 404,
     "status": "ok",
     "timestamp": 1653741702936,
     "user": {
      "displayName": "tanjil hasan",
      "userId": "01226942888917073947"
     },
     "user_tz": -120
    },
    "id": "CR8BvFf3ptsG",
    "outputId": "16a79637-2bae-4af3-fd06-efc971a22f82"
   },
   "outputs": [
    {
     "data": {
      "image/png": "[encoded data removed]",
      "text/plain": [
       "<Figure size 432x288 with 1 Axes>"
      ]
     },
     "metadata": {
      "needs_background": "light"
     },
     "output_type": "display_data"
    }
   ],
   "source": [
    "# LOS Distribution\n",
    "plt.hist([i/365 for i in merged['AGE']], bins=20)\n",
    "plt.title('Distribution of AGE ')\n",
    "plt.xlabel('Age (Years)')\n",
    "plt.show();"
   ]
  },
  {
   "cell_type": "code",
   "execution_count": null,
   "id": "-y9304uer0q2",
   "metadata": {
    "colab": {
     "base_uri": "https://localhost:8080/",
     "height": 295
    },
    "executionInfo": {
     "elapsed": 1212,
     "status": "ok",
     "timestamp": 1653741820039,
     "user": {
      "displayName": "tanjil hasan",
      "userId": "01226942888917073947"
     },
     "user_tz": -120
    },
    "id": "-y9304uer0q2",
    "outputId": "4d81cf83-c29c-4806-c145-56153cff0a0c"
   },
   "outputs": [
    {
     "data": {
      "image/png": "[encoded data removed]",
      "text/plain": [
       "<Figure size 432x288 with 1 Axes>"
      ]
     },
     "metadata": {
      "needs_background": "light"
     },
     "output_type": "display_data"
    }
   ],
   "source": [
    "plt.scatter([i/365 for i in merged['AGE']], merged['FULL_LOS'], alpha=0.005)\n",
    "plt.ylabel('LOS (days)')\n",
    "plt.xlabel('Age (years)')\n",
    "plt.title('Age Vs Length-of-stay')\n",
    "plt.show()"
   ]
  },
  {
   "cell_type": "markdown",
   "id": "WfYjKDk4sinm",
   "metadata": {
    "id": "WfYjKDk4sinm"
   },
   "source": [
    "## Number treatments or procedure that has implemneted on particular paitnets\n",
    "\n",
    "for acheiving the number we have to count how many unique icd 9 code that is distributed on a paitents to find it out we have to calculate the repitation of same icd 9 code in order"
   ]
  },
  {
   "cell_type": "code",
   "execution_count": null,
   "id": "Lb5iBP59YG2K",
   "metadata": {
    "id": "Lb5iBP59YG2K"
   },
   "outputs": [],
   "source": [
    "total_weight = []\n",
    "\n",
    "for i in merged['ICD9_CODE']:\n",
    "  counter=0\n",
    "  for j in merged['ICD9_CODE']:\n",
    "    if j==i:\n",
    "      counter+=1\n",
    "  total_weight.append(counter)"
   ]
  },
  {
   "cell_type": "code",
   "execution_count": null,
   "id": "XwPkFScmZMQ8",
   "metadata": {
    "id": "XwPkFScmZMQ8"
   },
   "outputs": [],
   "source": [
    "merged['PROCEDURES_NUMBER'] = total_weight"
   ]
  },
  {
   "cell_type": "markdown",
   "id": "6g-aJT_QwhXV",
   "metadata": {
    "id": "6g-aJT_QwhXV"
   },
   "source": [
    "## Discreatization of The LOS \n",
    "basically for a better classifcation model categorizing a column with a condition always helps , if its the target class then its mendatory so we have categorized the LOS values into two categorize short and long stays"
   ]
  },
  {
   "cell_type": "code",
   "execution_count": null,
   "id": "y7ulJsIef4i4",
   "metadata": {
    "id": "y7ulJsIef4i4"
   },
   "outputs": [],
   "source": [
    "category = []\n",
    "for i in merged['FULL_LOS']:\n",
    "  if i > 5:\n",
    "    category.append('long')\n",
    "  else:\n",
    "    category.append('short')"
   ]
  },
  {
   "cell_type": "code",
   "execution_count": null,
   "id": "QU0og80qgPNe",
   "metadata": {
    "id": "QU0og80qgPNe"
   },
   "outputs": [],
   "source": [
    "merged['LOS_CATEGORY'] = category"
   ]
  },
  {
   "cell_type": "code",
   "execution_count": null,
   "id": "lpzRqcNTh3a4",
   "metadata": {
    "colab": {
     "base_uri": "https://localhost:8080/"
    },
    "executionInfo": {
     "elapsed": 8,
     "status": "ok",
     "timestamp": 1653209694449,
     "user": {
      "displayName": "André Vital",
      "userId": "05754064760607199844"
     },
     "user_tz": -120
    },
    "id": "lpzRqcNTh3a4",
    "outputId": "28cbcf4c-cea1-414a-a91f-48d2e85a40c6"
   },
   "outputs": [
    {
     "name": "stdout",
     "output_type": "stream",
     "text": [
      "Number of Instances 70410\n",
      "Number of columns 24\n",
      " columns\n",
      "\t\t \n",
      "SUBJECT_ID \n",
      "SEQ_NUM \n",
      "ICD9_CODE \n",
      "HADM_ID \n",
      "ADMITTIME \n",
      "DISCHTIME \n",
      "ETHNICITY \n",
      "ADMISSION_TYPE \n",
      "ADMISSION_LOCATION \n",
      "INSURANCE \n",
      "RELIGION \n",
      "MARITAL_STATUS \n",
      "FIRST_CAREUNIT \n",
      "LAST_CAREUNIT \n",
      "FIRST_WARDID \n",
      "LAST_WARDID \n",
      "LOS \n",
      "GENDER \n",
      "DOB \n",
      "FULL_LOS \n",
      "AGE \n",
      "PROCEDURES_NUMBER \n",
      "LOS_CATEGORY \n",
      "LOS_CATEGORY_numeric\n"
     ]
    }
   ],
   "source": [
    "print(f\"Number of Instances {merged.shape[0]}\")\n",
    "print(f\"Number of columns {merged.shape[1]}\")\n",
    "print(\" columns\\n\\t\\t\",*merged.columns,sep = \" \\n\")\n"
   ]
  },
  {
   "cell_type": "code",
   "execution_count": null,
   "id": "zSksPC1bUlJa",
   "metadata": {
    "colab": {
     "base_uri": "https://localhost:8080/",
     "height": 384
    },
    "executionInfo": {
     "elapsed": 6,
     "status": "ok",
     "timestamp": 1653209694449,
     "user": {
      "displayName": "André Vital",
      "userId": "05754064760607199844"
     },
     "user_tz": -120
    },
    "id": "zSksPC1bUlJa",
    "outputId": "aaef0445-c376-4493-9c7b-c7219c06a594"
   },
   "outputs": [
    {
     "data": {
      "text/html": [
       "\n",
       "  <div id=\"df-2aa90d1e-fdad-41c1-9629-7cc9e0a0b0b5\">\n",
       "    <div class=\"colab-df-container\">\n",
       "      <div>\n",
       "<style scoped>\n",
       "    .dataframe tbody tr th:only-of-type {\n",
       "        vertical-align: middle;\n",
       "    }\n",
       "\n",
       "    .dataframe tbody tr th {\n",
       "        vertical-align: top;\n",
       "    }\n",
       "\n",
       "    .dataframe thead th {\n",
       "        text-align: right;\n",
       "    }\n",
       "</style>\n",
       "<table border=\"1\" class=\"dataframe\">\n",
       "  <thead>\n",
       "    <tr style=\"text-align: right;\">\n",
       "      <th></th>\n",
       "      <th>SUBJECT_ID</th>\n",
       "      <th>SEQ_NUM</th>\n",
       "      <th>ICD9_CODE</th>\n",
       "      <th>HADM_ID</th>\n",
       "      <th>ADMITTIME</th>\n",
       "      <th>DISCHTIME</th>\n",
       "      <th>ETHNICITY</th>\n",
       "      <th>ADMISSION_TYPE</th>\n",
       "      <th>ADMISSION_LOCATION</th>\n",
       "      <th>INSURANCE</th>\n",
       "      <th>...</th>\n",
       "      <th>FIRST_WARDID</th>\n",
       "      <th>LAST_WARDID</th>\n",
       "      <th>LOS</th>\n",
       "      <th>GENDER</th>\n",
       "      <th>DOB</th>\n",
       "      <th>FULL_LOS</th>\n",
       "      <th>AGE</th>\n",
       "      <th>PROCEDURES_NUMBER</th>\n",
       "      <th>LOS_CATEGORY</th>\n",
       "      <th>LOS_CATEGORY_numeric</th>\n",
       "    </tr>\n",
       "  </thead>\n",
       "  <tbody>\n",
       "    <tr>\n",
       "      <th>0</th>\n",
       "      <td>4096</td>\n",
       "      <td>7</td>\n",
       "      <td>25000</td>\n",
       "      <td>161677</td>\n",
       "      <td>2170-06-05 19:49:00</td>\n",
       "      <td>2170-06-22 16:00:00</td>\n",
       "      <td>BLACK/AFRICAN AMERICAN</td>\n",
       "      <td>EMERGENCY</td>\n",
       "      <td>EMERGENCY ROOM ADMIT</td>\n",
       "      <td>Medicare</td>\n",
       "      <td>...</td>\n",
       "      <td>MICU</td>\n",
       "      <td>MICU</td>\n",
       "      <td>2.1430</td>\n",
       "      <td>M</td>\n",
       "      <td>2091-09-11</td>\n",
       "      <td>16</td>\n",
       "      <td>28756</td>\n",
       "      <td>70410</td>\n",
       "      <td>long</td>\n",
       "      <td>0</td>\n",
       "    </tr>\n",
       "    <tr>\n",
       "      <th>1</th>\n",
       "      <td>4096</td>\n",
       "      <td>7</td>\n",
       "      <td>25000</td>\n",
       "      <td>161677</td>\n",
       "      <td>2170-06-05 19:49:00</td>\n",
       "      <td>2170-06-22 16:00:00</td>\n",
       "      <td>BLACK/AFRICAN AMERICAN</td>\n",
       "      <td>EMERGENCY</td>\n",
       "      <td>EMERGENCY ROOM ADMIT</td>\n",
       "      <td>Medicare</td>\n",
       "      <td>...</td>\n",
       "      <td>SICU</td>\n",
       "      <td>SICU</td>\n",
       "      <td>1.0524</td>\n",
       "      <td>M</td>\n",
       "      <td>2091-09-11</td>\n",
       "      <td>16</td>\n",
       "      <td>28756</td>\n",
       "      <td>70410</td>\n",
       "      <td>long</td>\n",
       "      <td>0</td>\n",
       "    </tr>\n",
       "    <tr>\n",
       "      <th>2</th>\n",
       "      <td>4096</td>\n",
       "      <td>7</td>\n",
       "      <td>25000</td>\n",
       "      <td>124383</td>\n",
       "      <td>2170-07-20 18:09:00</td>\n",
       "      <td>2170-07-26 13:30:00</td>\n",
       "      <td>BLACK/AFRICAN AMERICAN</td>\n",
       "      <td>EMERGENCY</td>\n",
       "      <td>EMERGENCY ROOM ADMIT</td>\n",
       "      <td>Medicare</td>\n",
       "      <td>...</td>\n",
       "      <td>MICU</td>\n",
       "      <td>MICU</td>\n",
       "      <td>2.1430</td>\n",
       "      <td>M</td>\n",
       "      <td>2091-09-11</td>\n",
       "      <td>5</td>\n",
       "      <td>28801</td>\n",
       "      <td>70410</td>\n",
       "      <td>short</td>\n",
       "      <td>1</td>\n",
       "    </tr>\n",
       "    <tr>\n",
       "      <th>3</th>\n",
       "      <td>4096</td>\n",
       "      <td>7</td>\n",
       "      <td>25000</td>\n",
       "      <td>124383</td>\n",
       "      <td>2170-07-20 18:09:00</td>\n",
       "      <td>2170-07-26 13:30:00</td>\n",
       "      <td>BLACK/AFRICAN AMERICAN</td>\n",
       "      <td>EMERGENCY</td>\n",
       "      <td>EMERGENCY ROOM ADMIT</td>\n",
       "      <td>Medicare</td>\n",
       "      <td>...</td>\n",
       "      <td>SICU</td>\n",
       "      <td>SICU</td>\n",
       "      <td>1.0524</td>\n",
       "      <td>M</td>\n",
       "      <td>2091-09-11</td>\n",
       "      <td>5</td>\n",
       "      <td>28801</td>\n",
       "      <td>70410</td>\n",
       "      <td>short</td>\n",
       "      <td>1</td>\n",
       "    </tr>\n",
       "    <tr>\n",
       "      <th>4</th>\n",
       "      <td>4864</td>\n",
       "      <td>3</td>\n",
       "      <td>25000</td>\n",
       "      <td>199793</td>\n",
       "      <td>2143-08-23 07:15:00</td>\n",
       "      <td>2143-08-28 13:15:00</td>\n",
       "      <td>WHITE</td>\n",
       "      <td>ELECTIVE</td>\n",
       "      <td>PHYS REFERRAL/NORMAL DELI</td>\n",
       "      <td>Private</td>\n",
       "      <td>...</td>\n",
       "      <td>CSRU</td>\n",
       "      <td>CSRU</td>\n",
       "      <td>3.0328</td>\n",
       "      <td>M</td>\n",
       "      <td>2090-03-11</td>\n",
       "      <td>5</td>\n",
       "      <td>19522</td>\n",
       "      <td>70410</td>\n",
       "      <td>short</td>\n",
       "      <td>1</td>\n",
       "    </tr>\n",
       "  </tbody>\n",
       "</table>\n",
       "<p>5 rows × 24 columns</p>\n",
       "</div>\n",
       "      <button class=\"colab-df-convert\" onclick=\"convertToInteractive('df-2aa90d1e-fdad-41c1-9629-7cc9e0a0b0b5')\"\n",
       "              title=\"Convert this dataframe to an interactive table.\"\n",
       "              style=\"display:none;\">\n",
       "        \n",
       "  <svg xmlns=\"http://www.w3.org/2000/svg\" height=\"24px\"viewBox=\"0 0 24 24\"\n",
       "       width=\"24px\">\n",
       "    <path d=\"M0 0h24v24H0V0z\" fill=\"none\"/>\n",
       "    <path d=\"M18.56 5.44l.94 2.06.94-2.06 2.06-.94-2.06-.94-.94-2.06-.94 2.06-2.06.94zm-11 1L8.5 8.5l.94-2.06 2.06-.94-2.06-.94L8.5 2.5l-.94 2.06-2.06.94zm10 10l.94 2.06.94-2.06 2.06-.94-2.06-.94-.94-2.06-.94 2.06-2.06.94z\"/><path d=\"M17.41 7.96l-1.37-1.37c-.4-.4-.92-.59-1.43-.59-.52 0-1.04.2-1.43.59L10.3 9.45l-7.72 7.72c-.78.78-.78 2.05 0 2.83L4 21.41c.39.39.9.59 1.41.59.51 0 1.02-.2 1.41-.59l7.78-7.78 2.81-2.81c.8-.78.8-2.07 0-2.86zM5.41 20L4 18.59l7.72-7.72 1.47 1.35L5.41 20z\"/>\n",
       "  </svg>\n",
       "      </button>\n",
       "      \n",
       "  <style>\n",
       "    .colab-df-container {\n",
       "      display:flex;\n",
       "      flex-wrap:wrap;\n",
       "      gap: 12px;\n",
       "    }\n",
       "\n",
       "    .colab-df-convert {\n",
       "      background-color: #E8F0FE;\n",
       "      border: none;\n",
       "      border-radius: 50%;\n",
       "      cursor: pointer;\n",
       "      display: none;\n",
       "      fill: #1967D2;\n",
       "      height: 32px;\n",
       "      padding: 0 0 0 0;\n",
       "      width: 32px;\n",
       "    }\n",
       "\n",
       "    .colab-df-convert:hover {\n",
       "      background-color: #E2EBFA;\n",
       "      box-shadow: 0px 1px 2px rgba(60, 64, 67, 0.3), 0px 1px 3px 1px rgba(60, 64, 67, 0.15);\n",
       "      fill: #174EA6;\n",
       "    }\n",
       "\n",
       "    [theme=dark] .colab-df-convert {\n",
       "      background-color: #3B4455;\n",
       "      fill: #D2E3FC;\n",
       "    }\n",
       "\n",
       "    [theme=dark] .colab-df-convert:hover {\n",
       "      background-color: #434B5C;\n",
       "      box-shadow: 0px 1px 3px 1px rgba(0, 0, 0, 0.15);\n",
       "      filter: drop-shadow(0px 1px 2px rgba(0, 0, 0, 0.3));\n",
       "      fill: #FFFFFF;\n",
       "    }\n",
       "  </style>\n",
       "\n",
       "      <script>\n",
       "        const buttonEl =\n",
       "          document.querySelector('#df-2aa90d1e-fdad-41c1-9629-7cc9e0a0b0b5 button.colab-df-convert');\n",
       "        buttonEl.style.display =\n",
       "          google.colab.kernel.accessAllowed ? 'block' : 'none';\n",
       "\n",
       "        async function convertToInteractive(key) {\n",
       "          const element = document.querySelector('#df-2aa90d1e-fdad-41c1-9629-7cc9e0a0b0b5');\n",
       "          const dataTable =\n",
       "            await google.colab.kernel.invokeFunction('convertToInteractive',\n",
       "                                                     [key], {});\n",
       "          if (!dataTable) return;\n",
       "\n",
       "          const docLinkHtml = 'Like what you see? Visit the ' +\n",
       "            '<a target=\"_blank\" href=https://colab.research.google.com/notebooks/data_table.ipynb>data table notebook</a>'\n",
       "            + ' to learn more about interactive tables.';\n",
       "          element.innerHTML = '';\n",
       "          dataTable['output_type'] = 'display_data';\n",
       "          await google.colab.output.renderOutput(dataTable, element);\n",
       "          const docLink = document.createElement('div');\n",
       "          docLink.innerHTML = docLinkHtml;\n",
       "          element.appendChild(docLink);\n",
       "        }\n",
       "      </script>\n",
       "    </div>\n",
       "  </div>\n",
       "  "
      ],
      "text/plain": [
       "   SUBJECT_ID  SEQ_NUM ICD9_CODE  HADM_ID           ADMITTIME  \\\n",
       "0        4096        7     25000   161677 2170-06-05 19:49:00   \n",
       "1        4096        7     25000   161677 2170-06-05 19:49:00   \n",
       "2        4096        7     25000   124383 2170-07-20 18:09:00   \n",
       "3        4096        7     25000   124383 2170-07-20 18:09:00   \n",
       "4        4864        3     25000   199793 2143-08-23 07:15:00   \n",
       "\n",
       "            DISCHTIME               ETHNICITY ADMISSION_TYPE  \\\n",
       "0 2170-06-22 16:00:00  BLACK/AFRICAN AMERICAN      EMERGENCY   \n",
       "1 2170-06-22 16:00:00  BLACK/AFRICAN AMERICAN      EMERGENCY   \n",
       "2 2170-07-26 13:30:00  BLACK/AFRICAN AMERICAN      EMERGENCY   \n",
       "3 2170-07-26 13:30:00  BLACK/AFRICAN AMERICAN      EMERGENCY   \n",
       "4 2143-08-28 13:15:00                   WHITE       ELECTIVE   \n",
       "\n",
       "          ADMISSION_LOCATION INSURANCE  ... FIRST_WARDID LAST_WARDID     LOS  \\\n",
       "0       EMERGENCY ROOM ADMIT  Medicare  ...         MICU        MICU  2.1430   \n",
       "1       EMERGENCY ROOM ADMIT  Medicare  ...         SICU        SICU  1.0524   \n",
       "2       EMERGENCY ROOM ADMIT  Medicare  ...         MICU        MICU  2.1430   \n",
       "3       EMERGENCY ROOM ADMIT  Medicare  ...         SICU        SICU  1.0524   \n",
       "4  PHYS REFERRAL/NORMAL DELI   Private  ...         CSRU        CSRU  3.0328   \n",
       "\n",
       "  GENDER        DOB FULL_LOS    AGE PROCEDURES_NUMBER LOS_CATEGORY  \\\n",
       "0      M 2091-09-11       16  28756             70410         long   \n",
       "1      M 2091-09-11       16  28756             70410         long   \n",
       "2      M 2091-09-11        5  28801             70410        short   \n",
       "3      M 2091-09-11        5  28801             70410        short   \n",
       "4      M 2090-03-11        5  19522             70410        short   \n",
       "\n",
       "   LOS_CATEGORY_numeric  \n",
       "0                     0  \n",
       "1                     0  \n",
       "2                     1  \n",
       "3                     1  \n",
       "4                     1  \n",
       "\n",
       "[5 rows x 24 columns]"
      ]
     },
     "execution_count": 29,
     "metadata": {},
     "output_type": "execute_result"
    }
   ],
   "source": [
    "merged.reset_index(inplace=True,drop=True)\n",
    "merged.head()"
   ]
  },
  {
   "cell_type": "code",
   "execution_count": null,
   "id": "9VOXOyhWWjp2",
   "metadata": {
    "colab": {
     "base_uri": "https://localhost:8080/",
     "height": 1000
    },
    "executionInfo": {
     "elapsed": 5812,
     "status": "ok",
     "timestamp": 1653209700256,
     "user": {
      "displayName": "André Vital",
      "userId": "05754064760607199844"
     },
     "user_tz": -120
    },
    "id": "9VOXOyhWWjp2",
    "outputId": "54c36429-ad9f-4793-bbfe-058e7774e298"
   },
   "outputs": [
    {
     "data": {
      "image/png": "[encoded data removed]",
      "text/plain": [
       "<Figure size 432x288 with 1 Axes>"
      ]
     },
     "metadata": {
      "needs_background": "light"
     },
     "output_type": "display_data"
    },
    {
     "data": {
      "image/png": "[encoded data removed]",
      "text/plain": [
       "<Figure size 432x288 with 1 Axes>"
      ]
     },
     "metadata": {
      "needs_background": "light"
     },
     "output_type": "display_data"
    },
    {
     "data": {
      "image/png": "[encoded data removed]",
      "text/plain": [
       "<Figure size 432x288 with 1 Axes>"
      ]
     },
     "metadata": {
      "needs_background": "light"
     },
     "output_type": "display_data"
    },
    {
     "data": {
      "image/png": "[encoded data removed]",
      "text/plain": [
       "<Figure size 432x288 with 1 Axes>"
      ]
     },
     "metadata": {
      "needs_background": "light"
     },
     "output_type": "display_data"
    },
    {
     "data": {
      "image/png": "[encoded data removed]",
      "text/plain": [
       "<Figure size 432x288 with 1 Axes>"
      ]
     },
     "metadata": {
      "needs_background": "light"
     },
     "output_type": "display_data"
    },
    {
     "data": {
      "image/png": "[encoded data removed]",
      "text/plain": [
       "<Figure size 432x288 with 1 Axes>"
      ]
     },
     "metadata": {
      "needs_background": "light"
     },
     "output_type": "display_data"
    },
    {
     "data": {
      "image/png": "[encoded data removed]",
      "text/plain": [
       "<Figure size 432x288 with 1 Axes>"
      ]
     },
     "metadata": {
      "needs_background": "light"
     },
     "output_type": "display_data"
    },
    {
     "data": {
      "image/png": "[encoded data removed]",
      "text/plain": [
       "<Figure size 432x288 with 1 Axes>"
      ]
     },
     "metadata": {
      "needs_background": "light"
     },
     "output_type": "display_data"
    },
    {
     "data": {
      "image/png": "[encoded data removed]",
      "text/plain": [
       "<Figure size 432x288 with 1 Axes>"
      ]
     },
     "metadata": {
      "needs_background": "light"
     },
     "output_type": "display_data"
    },
    {
     "data": {
      "image/png": "[encoded data removed]",
      "text/plain": [
       "<Figure size 432x288 with 1 Axes>"
      ]
     },
     "metadata": {
      "needs_background": "light"
     },
     "output_type": "display_data"
    },
    {
     "data": {
      "image/png": "[encoded data removed]",
      "text/plain": [
       "<Figure size 432x288 with 1 Axes>"
      ]
     },
     "metadata": {
      "needs_background": "light"
     },
     "output_type": "display_data"
    },
    {
     "data": {
      "image/png": "[encoded data removed]",
      "text/plain": [
       "<Figure size 432x288 with 1 Axes>"
      ]
     },
     "metadata": {
      "needs_background": "light"
     },
     "output_type": "display_data"
    },
    {
     "data": {
      "image/png": "[encoded data removed]",
      "text/plain": [
       "<Figure size 432x288 with 1 Axes>"
      ]
     },
     "metadata": {
      "needs_background": "light"
     },
     "output_type": "display_data"
    },
    {
     "data": {
      "image/png": "[encoded data removed]",
      "text/plain": [
       "<Figure size 432x288 with 1 Axes>"
      ]
     },
     "metadata": {
      "needs_background": "light"
     },
     "output_type": "display_data"
    },
    {
     "data": {
      "image/png": "[encoded data removed]",
      "text/plain": [
       "<Figure size 432x288 with 1 Axes>"
      ]
     },
     "metadata": {
      "needs_background": "light"
     },
     "output_type": "display_data"
    },
    {
     "data": {
      "image/png": "[encoded data removed]",
      "text/plain": [
       "<Figure size 432x288 with 1 Axes>"
      ]
     },
     "metadata": {
      "needs_background": "light"
     },
     "output_type": "display_data"
    },
    {
     "data": {
      "image/png": "[encoded data removed]",
      "text/plain": [
       "<Figure size 432x288 with 1 Axes>"
      ]
     },
     "metadata": {
      "needs_background": "light"
     },
     "output_type": "display_data"
    },
    {
     "data": {
      "image/png": "[encoded data removed]",
      "text/plain": [
       "<Figure size 432x288 with 1 Axes>"
      ]
     },
     "metadata": {
      "needs_background": "light"
     },
     "output_type": "display_data"
    },
    {
     "data": {
      "image/png": "[encoded data removed]",
      "text/plain": [
       "<Figure size 432x288 with 1 Axes>"
      ]
     },
     "metadata": {
      "needs_background": "light"
     },
     "output_type": "display_data"
    },
    {
     "data": {
      "image/png": "[encoded data removed]",
      "text/plain": [
       "<Figure size 432x288 with 1 Axes>"
      ]
     },
     "metadata": {
      "needs_background": "light"
     },
     "output_type": "display_data"
    },
    {
     "data": {
      "image/png": "[encoded data removed]",
      "text/plain": [
       "<Figure size 432x288 with 1 Axes>"
      ]
     },
     "metadata": {
      "needs_background": "light"
     },
     "output_type": "display_data"
    }
   ],
   "source": [
    "feature_names=[ i for i in merged.columns if i !='LOS_CATEGORY' and i!='LOS_CATEGORY_numeric' and i!='SUBJECT_ID']\n",
    "\n",
    "for i in feature_names:\n",
    "  try:\n",
    "    plt.scatter(merged.loc[merged['LOS_CATEGORY_numeric']==0][i],merged.loc[merged['LOS_CATEGORY_numeric']==0]['FULL_LOS'], color=\"orange\", label=\"0\")\n",
    "    plt.scatter(merged.loc[merged['LOS_CATEGORY_numeric']==1][i],merged.loc[merged['LOS_CATEGORY_numeric']==1]['FULL_LOS'], color=\"royalblue\", label=\"1\")\n",
    "    plt.xlabel(i, fontsize=18)\n",
    "    plt.ylabel('Length of Stay', fontsize=18)\n",
    "    plt.show()\n",
    "  except:\n",
    "    print(i)\n",
    "    print('breaking')\n",
    "    break"
   ]
  },
  {
   "cell_type": "code",
   "execution_count": null,
   "id": "4PPE4b-9av3M",
   "metadata": {
    "colab": {
     "base_uri": "https://localhost:8080/",
     "height": 1000
    },
    "executionInfo": {
     "elapsed": 1351,
     "status": "ok",
     "timestamp": 1653209701596,
     "user": {
      "displayName": "André Vital",
      "userId": "05754064760607199844"
     },
     "user_tz": -120
    },
    "id": "4PPE4b-9av3M",
    "outputId": "a9f19bec-2327-4b53-ff9d-180d59a5aaa9"
   },
   "outputs": [
    {
     "data": {
      "image/png": "[encoded data removed]",
      "text/plain": [
       "<Figure size 1440x1440 with 2 Axes>"
      ]
     },
     "metadata": {
      "needs_background": "light"
     },
     "output_type": "display_data"
    }
   ],
   "source": [
    "import seaborn as sns\n",
    "\n",
    "corr_mat = merged.corr()\n",
    "top_corr_features = corr_mat.index\n",
    "\n",
    "plt.figure(figsize=(20,20))\n",
    "g = sns.heatmap(merged[top_corr_features].corr(),annot= True, cmap = \"RdYlGn\")"
   ]
  },
  {
   "cell_type": "markdown",
   "id": "fZlCTmcBxAZT",
   "metadata": {
    "id": "fZlCTmcBxAZT"
   },
   "source": [
    "# DATA PREPROCESSING"
   ]
  },
  {
   "cell_type": "code",
   "execution_count": null,
   "id": "qtYRAxAqbBb4",
   "metadata": {
    "colab": {
     "base_uri": "https://localhost:8080/",
     "height": 488
    },
    "executionInfo": {
     "elapsed": 210,
     "status": "ok",
     "timestamp": 1653743072057,
     "user": {
      "displayName": "tanjil hasan",
      "userId": "01226942888917073947"
     },
     "user_tz": -120
    },
    "id": "qtYRAxAqbBb4",
    "outputId": "226bfa90-ca0d-47f4-93ae-dc490947dced"
   },
   "outputs": [
    {
     "data": {
      "text/html": [
       "\n",
       "  <div id=\"df-30849bf0-147f-4da3-a36f-98fc2b90071f\">\n",
       "    <div class=\"colab-df-container\">\n",
       "      <div>\n",
       "<style scoped>\n",
       "    .dataframe tbody tr th:only-of-type {\n",
       "        vertical-align: middle;\n",
       "    }\n",
       "\n",
       "    .dataframe tbody tr th {\n",
       "        vertical-align: top;\n",
       "    }\n",
       "\n",
       "    .dataframe thead th {\n",
       "        text-align: right;\n",
       "    }\n",
       "</style>\n",
       "<table border=\"1\" class=\"dataframe\">\n",
       "  <thead>\n",
       "    <tr style=\"text-align: right;\">\n",
       "      <th></th>\n",
       "      <th>SUBJECT_ID</th>\n",
       "      <th>SEQ_NUM</th>\n",
       "      <th>ICD9_CODE</th>\n",
       "      <th>HADM_ID</th>\n",
       "      <th>ADMITTIME</th>\n",
       "      <th>DISCHTIME</th>\n",
       "      <th>DEATHTIME</th>\n",
       "      <th>ETHNICITY</th>\n",
       "      <th>ADMISSION_TYPE</th>\n",
       "      <th>ADMISSION_LOCATION</th>\n",
       "      <th>...</th>\n",
       "      <th>LAST_CAREUNIT</th>\n",
       "      <th>FIRST_WARDID</th>\n",
       "      <th>LAST_WARDID</th>\n",
       "      <th>LOS</th>\n",
       "      <th>GENDER</th>\n",
       "      <th>DOB</th>\n",
       "      <th>FULL_LOS</th>\n",
       "      <th>AGE</th>\n",
       "      <th>PROCEDURES_NUMBER</th>\n",
       "      <th>LOS_CATEGORY</th>\n",
       "    </tr>\n",
       "  </thead>\n",
       "  <tbody>\n",
       "    <tr>\n",
       "      <th>0</th>\n",
       "      <td>False</td>\n",
       "      <td>False</td>\n",
       "      <td>False</td>\n",
       "      <td>False</td>\n",
       "      <td>False</td>\n",
       "      <td>False</td>\n",
       "      <td>True</td>\n",
       "      <td>False</td>\n",
       "      <td>False</td>\n",
       "      <td>False</td>\n",
       "      <td>...</td>\n",
       "      <td>False</td>\n",
       "      <td>False</td>\n",
       "      <td>False</td>\n",
       "      <td>False</td>\n",
       "      <td>False</td>\n",
       "      <td>False</td>\n",
       "      <td>False</td>\n",
       "      <td>False</td>\n",
       "      <td>False</td>\n",
       "      <td>False</td>\n",
       "    </tr>\n",
       "    <tr>\n",
       "      <th>1</th>\n",
       "      <td>False</td>\n",
       "      <td>False</td>\n",
       "      <td>False</td>\n",
       "      <td>False</td>\n",
       "      <td>False</td>\n",
       "      <td>False</td>\n",
       "      <td>True</td>\n",
       "      <td>False</td>\n",
       "      <td>False</td>\n",
       "      <td>False</td>\n",
       "      <td>...</td>\n",
       "      <td>False</td>\n",
       "      <td>False</td>\n",
       "      <td>False</td>\n",
       "      <td>False</td>\n",
       "      <td>False</td>\n",
       "      <td>False</td>\n",
       "      <td>False</td>\n",
       "      <td>False</td>\n",
       "      <td>False</td>\n",
       "      <td>False</td>\n",
       "    </tr>\n",
       "    <tr>\n",
       "      <th>2</th>\n",
       "      <td>False</td>\n",
       "      <td>False</td>\n",
       "      <td>False</td>\n",
       "      <td>False</td>\n",
       "      <td>False</td>\n",
       "      <td>False</td>\n",
       "      <td>True</td>\n",
       "      <td>False</td>\n",
       "      <td>False</td>\n",
       "      <td>False</td>\n",
       "      <td>...</td>\n",
       "      <td>False</td>\n",
       "      <td>False</td>\n",
       "      <td>False</td>\n",
       "      <td>False</td>\n",
       "      <td>False</td>\n",
       "      <td>False</td>\n",
       "      <td>False</td>\n",
       "      <td>False</td>\n",
       "      <td>False</td>\n",
       "      <td>False</td>\n",
       "    </tr>\n",
       "    <tr>\n",
       "      <th>3</th>\n",
       "      <td>False</td>\n",
       "      <td>False</td>\n",
       "      <td>False</td>\n",
       "      <td>False</td>\n",
       "      <td>False</td>\n",
       "      <td>False</td>\n",
       "      <td>True</td>\n",
       "      <td>False</td>\n",
       "      <td>False</td>\n",
       "      <td>False</td>\n",
       "      <td>...</td>\n",
       "      <td>False</td>\n",
       "      <td>False</td>\n",
       "      <td>False</td>\n",
       "      <td>False</td>\n",
       "      <td>False</td>\n",
       "      <td>False</td>\n",
       "      <td>False</td>\n",
       "      <td>False</td>\n",
       "      <td>False</td>\n",
       "      <td>False</td>\n",
       "    </tr>\n",
       "    <tr>\n",
       "      <th>4</th>\n",
       "      <td>False</td>\n",
       "      <td>False</td>\n",
       "      <td>False</td>\n",
       "      <td>False</td>\n",
       "      <td>False</td>\n",
       "      <td>False</td>\n",
       "      <td>True</td>\n",
       "      <td>False</td>\n",
       "      <td>False</td>\n",
       "      <td>False</td>\n",
       "      <td>...</td>\n",
       "      <td>False</td>\n",
       "      <td>False</td>\n",
       "      <td>False</td>\n",
       "      <td>False</td>\n",
       "      <td>False</td>\n",
       "      <td>False</td>\n",
       "      <td>False</td>\n",
       "      <td>False</td>\n",
       "      <td>False</td>\n",
       "      <td>False</td>\n",
       "    </tr>\n",
       "    <tr>\n",
       "      <th>...</th>\n",
       "      <td>...</td>\n",
       "      <td>...</td>\n",
       "      <td>...</td>\n",
       "      <td>...</td>\n",
       "      <td>...</td>\n",
       "      <td>...</td>\n",
       "      <td>...</td>\n",
       "      <td>...</td>\n",
       "      <td>...</td>\n",
       "      <td>...</td>\n",
       "      <td>...</td>\n",
       "      <td>...</td>\n",
       "      <td>...</td>\n",
       "      <td>...</td>\n",
       "      <td>...</td>\n",
       "      <td>...</td>\n",
       "      <td>...</td>\n",
       "      <td>...</td>\n",
       "      <td>...</td>\n",
       "      <td>...</td>\n",
       "      <td>...</td>\n",
       "    </tr>\n",
       "    <tr>\n",
       "      <th>70405</th>\n",
       "      <td>False</td>\n",
       "      <td>False</td>\n",
       "      <td>False</td>\n",
       "      <td>False</td>\n",
       "      <td>False</td>\n",
       "      <td>False</td>\n",
       "      <td>True</td>\n",
       "      <td>False</td>\n",
       "      <td>False</td>\n",
       "      <td>False</td>\n",
       "      <td>...</td>\n",
       "      <td>False</td>\n",
       "      <td>False</td>\n",
       "      <td>False</td>\n",
       "      <td>False</td>\n",
       "      <td>False</td>\n",
       "      <td>False</td>\n",
       "      <td>False</td>\n",
       "      <td>False</td>\n",
       "      <td>False</td>\n",
       "      <td>False</td>\n",
       "    </tr>\n",
       "    <tr>\n",
       "      <th>70406</th>\n",
       "      <td>False</td>\n",
       "      <td>False</td>\n",
       "      <td>False</td>\n",
       "      <td>False</td>\n",
       "      <td>False</td>\n",
       "      <td>False</td>\n",
       "      <td>True</td>\n",
       "      <td>False</td>\n",
       "      <td>False</td>\n",
       "      <td>False</td>\n",
       "      <td>...</td>\n",
       "      <td>False</td>\n",
       "      <td>False</td>\n",
       "      <td>False</td>\n",
       "      <td>False</td>\n",
       "      <td>False</td>\n",
       "      <td>False</td>\n",
       "      <td>False</td>\n",
       "      <td>False</td>\n",
       "      <td>False</td>\n",
       "      <td>False</td>\n",
       "    </tr>\n",
       "    <tr>\n",
       "      <th>70407</th>\n",
       "      <td>False</td>\n",
       "      <td>False</td>\n",
       "      <td>False</td>\n",
       "      <td>False</td>\n",
       "      <td>False</td>\n",
       "      <td>False</td>\n",
       "      <td>True</td>\n",
       "      <td>False</td>\n",
       "      <td>False</td>\n",
       "      <td>False</td>\n",
       "      <td>...</td>\n",
       "      <td>False</td>\n",
       "      <td>False</td>\n",
       "      <td>False</td>\n",
       "      <td>False</td>\n",
       "      <td>False</td>\n",
       "      <td>False</td>\n",
       "      <td>False</td>\n",
       "      <td>False</td>\n",
       "      <td>False</td>\n",
       "      <td>False</td>\n",
       "    </tr>\n",
       "    <tr>\n",
       "      <th>70408</th>\n",
       "      <td>False</td>\n",
       "      <td>False</td>\n",
       "      <td>False</td>\n",
       "      <td>False</td>\n",
       "      <td>False</td>\n",
       "      <td>False</td>\n",
       "      <td>True</td>\n",
       "      <td>False</td>\n",
       "      <td>False</td>\n",
       "      <td>False</td>\n",
       "      <td>...</td>\n",
       "      <td>False</td>\n",
       "      <td>False</td>\n",
       "      <td>False</td>\n",
       "      <td>False</td>\n",
       "      <td>False</td>\n",
       "      <td>False</td>\n",
       "      <td>False</td>\n",
       "      <td>False</td>\n",
       "      <td>False</td>\n",
       "      <td>False</td>\n",
       "    </tr>\n",
       "    <tr>\n",
       "      <th>70409</th>\n",
       "      <td>False</td>\n",
       "      <td>False</td>\n",
       "      <td>False</td>\n",
       "      <td>False</td>\n",
       "      <td>False</td>\n",
       "      <td>False</td>\n",
       "      <td>True</td>\n",
       "      <td>False</td>\n",
       "      <td>False</td>\n",
       "      <td>False</td>\n",
       "      <td>...</td>\n",
       "      <td>False</td>\n",
       "      <td>False</td>\n",
       "      <td>False</td>\n",
       "      <td>False</td>\n",
       "      <td>False</td>\n",
       "      <td>False</td>\n",
       "      <td>False</td>\n",
       "      <td>False</td>\n",
       "      <td>False</td>\n",
       "      <td>False</td>\n",
       "    </tr>\n",
       "  </tbody>\n",
       "</table>\n",
       "<p>63083 rows × 24 columns</p>\n",
       "</div>\n",
       "      <button class=\"colab-df-convert\" onclick=\"convertToInteractive('df-30849bf0-147f-4da3-a36f-98fc2b90071f')\"\n",
       "              title=\"Convert this dataframe to an interactive table.\"\n",
       "              style=\"display:none;\">\n",
       "        \n",
       "  <svg xmlns=\"http://www.w3.org/2000/svg\" height=\"24px\"viewBox=\"0 0 24 24\"\n",
       "       width=\"24px\">\n",
       "    <path d=\"M0 0h24v24H0V0z\" fill=\"none\"/>\n",
       "    <path d=\"M18.56 5.44l.94 2.06.94-2.06 2.06-.94-2.06-.94-.94-2.06-.94 2.06-2.06.94zm-11 1L8.5 8.5l.94-2.06 2.06-.94-2.06-.94L8.5 2.5l-.94 2.06-2.06.94zm10 10l.94 2.06.94-2.06 2.06-.94-2.06-.94-.94-2.06-.94 2.06-2.06.94z\"/><path d=\"M17.41 7.96l-1.37-1.37c-.4-.4-.92-.59-1.43-.59-.52 0-1.04.2-1.43.59L10.3 9.45l-7.72 7.72c-.78.78-.78 2.05 0 2.83L4 21.41c.39.39.9.59 1.41.59.51 0 1.02-.2 1.41-.59l7.78-7.78 2.81-2.81c.8-.78.8-2.07 0-2.86zM5.41 20L4 18.59l7.72-7.72 1.47 1.35L5.41 20z\"/>\n",
       "  </svg>\n",
       "      </button>\n",
       "      \n",
       "  <style>\n",
       "    .colab-df-container {\n",
       "      display:flex;\n",
       "      flex-wrap:wrap;\n",
       "      gap: 12px;\n",
       "    }\n",
       "\n",
       "    .colab-df-convert {\n",
       "      background-color: #E8F0FE;\n",
       "      border: none;\n",
       "      border-radius: 50%;\n",
       "      cursor: pointer;\n",
       "      display: none;\n",
       "      fill: #1967D2;\n",
       "      height: 32px;\n",
       "      padding: 0 0 0 0;\n",
       "      width: 32px;\n",
       "    }\n",
       "\n",
       "    .colab-df-convert:hover {\n",
       "      background-color: #E2EBFA;\n",
       "      box-shadow: 0px 1px 2px rgba(60, 64, 67, 0.3), 0px 1px 3px 1px rgba(60, 64, 67, 0.15);\n",
       "      fill: #174EA6;\n",
       "    }\n",
       "\n",
       "    [theme=dark] .colab-df-convert {\n",
       "      background-color: #3B4455;\n",
       "      fill: #D2E3FC;\n",
       "    }\n",
       "\n",
       "    [theme=dark] .colab-df-convert:hover {\n",
       "      background-color: #434B5C;\n",
       "      box-shadow: 0px 1px 3px 1px rgba(0, 0, 0, 0.15);\n",
       "      filter: drop-shadow(0px 1px 2px rgba(0, 0, 0, 0.3));\n",
       "      fill: #FFFFFF;\n",
       "    }\n",
       "  </style>\n",
       "\n",
       "      <script>\n",
       "        const buttonEl =\n",
       "          document.querySelector('#df-30849bf0-147f-4da3-a36f-98fc2b90071f button.colab-df-convert');\n",
       "        buttonEl.style.display =\n",
       "          google.colab.kernel.accessAllowed ? 'block' : 'none';\n",
       "\n",
       "        async function convertToInteractive(key) {\n",
       "          const element = document.querySelector('#df-30849bf0-147f-4da3-a36f-98fc2b90071f');\n",
       "          const dataTable =\n",
       "            await google.colab.kernel.invokeFunction('convertToInteractive',\n",
       "                                                     [key], {});\n",
       "          if (!dataTable) return;\n",
       "\n",
       "          const docLinkHtml = 'Like what you see? Visit the ' +\n",
       "            '<a target=\"_blank\" href=https://colab.research.google.com/notebooks/data_table.ipynb>data table notebook</a>'\n",
       "            + ' to learn more about interactive tables.';\n",
       "          element.innerHTML = '';\n",
       "          dataTable['output_type'] = 'display_data';\n",
       "          await google.colab.output.renderOutput(dataTable, element);\n",
       "          const docLink = document.createElement('div');\n",
       "          docLink.innerHTML = docLinkHtml;\n",
       "          element.appendChild(docLink);\n",
       "        }\n",
       "      </script>\n",
       "    </div>\n",
       "  </div>\n",
       "  "
      ],
      "text/plain": [
       "       SUBJECT_ID  SEQ_NUM  ICD9_CODE  HADM_ID  ADMITTIME  DISCHTIME  \\\n",
       "0           False    False      False    False      False      False   \n",
       "1           False    False      False    False      False      False   \n",
       "2           False    False      False    False      False      False   \n",
       "3           False    False      False    False      False      False   \n",
       "4           False    False      False    False      False      False   \n",
       "...           ...      ...        ...      ...        ...        ...   \n",
       "70405       False    False      False    False      False      False   \n",
       "70406       False    False      False    False      False      False   \n",
       "70407       False    False      False    False      False      False   \n",
       "70408       False    False      False    False      False      False   \n",
       "70409       False    False      False    False      False      False   \n",
       "\n",
       "       DEATHTIME  ETHNICITY  ADMISSION_TYPE  ADMISSION_LOCATION  ...  \\\n",
       "0           True      False           False               False  ...   \n",
       "1           True      False           False               False  ...   \n",
       "2           True      False           False               False  ...   \n",
       "3           True      False           False               False  ...   \n",
       "4           True      False           False               False  ...   \n",
       "...          ...        ...             ...                 ...  ...   \n",
       "70405       True      False           False               False  ...   \n",
       "70406       True      False           False               False  ...   \n",
       "70407       True      False           False               False  ...   \n",
       "70408       True      False           False               False  ...   \n",
       "70409       True      False           False               False  ...   \n",
       "\n",
       "       LAST_CAREUNIT  FIRST_WARDID  LAST_WARDID    LOS  GENDER    DOB  \\\n",
       "0              False         False        False  False   False  False   \n",
       "1              False         False        False  False   False  False   \n",
       "2              False         False        False  False   False  False   \n",
       "3              False         False        False  False   False  False   \n",
       "4              False         False        False  False   False  False   \n",
       "...              ...           ...          ...    ...     ...    ...   \n",
       "70405          False         False        False  False   False  False   \n",
       "70406          False         False        False  False   False  False   \n",
       "70407          False         False        False  False   False  False   \n",
       "70408          False         False        False  False   False  False   \n",
       "70409          False         False        False  False   False  False   \n",
       "\n",
       "       FULL_LOS    AGE  PROCEDURES_NUMBER  LOS_CATEGORY  \n",
       "0         False  False              False         False  \n",
       "1         False  False              False         False  \n",
       "2         False  False              False         False  \n",
       "3         False  False              False         False  \n",
       "4         False  False              False         False  \n",
       "...         ...    ...                ...           ...  \n",
       "70405     False  False              False         False  \n",
       "70406     False  False              False         False  \n",
       "70407     False  False              False         False  \n",
       "70408     False  False              False         False  \n",
       "70409     False  False              False         False  \n",
       "\n",
       "[63083 rows x 24 columns]"
      ]
     },
     "execution_count": 127,
     "metadata": {},
     "output_type": "execute_result"
    }
   ],
   "source": [
    "#checking NULL values\n",
    "merged.isnull()"
   ]
  },
  {
   "cell_type": "code",
   "execution_count": null,
   "id": "6JiIlCXTfBrW",
   "metadata": {
    "colab": {
     "base_uri": "https://localhost:8080/"
    },
    "executionInfo": {
     "elapsed": 223,
     "status": "ok",
     "timestamp": 1653743089096,
     "user": {
      "displayName": "tanjil hasan",
      "userId": "01226942888917073947"
     },
     "user_tz": -120
    },
    "id": "6JiIlCXTfBrW",
    "outputId": "a00d6c59-cacb-43af-c924-89974f48c5a1"
   },
   "outputs": [
    {
     "data": {
      "text/plain": [
       "SUBJECT_ID                0\n",
       "SEQ_NUM                   0\n",
       "ICD9_CODE                 0\n",
       "HADM_ID                   0\n",
       "ADMITTIME                 0\n",
       "DISCHTIME                 0\n",
       "DEATHTIME             63083\n",
       "ETHNICITY                 0\n",
       "ADMISSION_TYPE            0\n",
       "ADMISSION_LOCATION        0\n",
       "INSURANCE                 0\n",
       "RELIGION                104\n",
       "MARITAL_STATUS          471\n",
       "FIRST_CAREUNIT            6\n",
       "LAST_CAREUNIT             6\n",
       "FIRST_WARDID              6\n",
       "LAST_WARDID               6\n",
       "LOS                       6\n",
       "GENDER                    0\n",
       "DOB                       0\n",
       "FULL_LOS                  0\n",
       "AGE                       0\n",
       "PROCEDURES_NUMBER         0\n",
       "LOS_CATEGORY              0\n",
       "dtype: int64"
      ]
     },
     "execution_count": 128,
     "metadata": {},
     "output_type": "execute_result"
    }
   ],
   "source": [
    "merged.isnull().sum()"
   ]
  },
  {
   "cell_type": "markdown",
   "id": "3yQQ_BtOxVDM",
   "metadata": {
    "id": "3yQQ_BtOxVDM"
   },
   "source": [
    "### We have used deathtime to filter out the data poits that is neccesary but the use of deathtime is no more , so we are going to drop this column"
   ]
  },
  {
   "cell_type": "code",
   "execution_count": null,
   "id": "oz-RdikmxlkS",
   "metadata": {
    "id": "oz-RdikmxlkS"
   },
   "outputs": [],
   "source": [
    "del merged['DEATHTIME']"
   ]
  },
  {
   "cell_type": "code",
   "execution_count": null,
   "id": "DeVtSf5_xuOg",
   "metadata": {
    "colab": {
     "base_uri": "https://localhost:8080/"
    },
    "executionInfo": {
     "elapsed": 331,
     "status": "ok",
     "timestamp": 1653743229364,
     "user": {
      "displayName": "tanjil hasan",
      "userId": "01226942888917073947"
     },
     "user_tz": -120
    },
    "id": "DeVtSf5_xuOg",
    "outputId": "1020de06-d668-4081-b1c3-c4c96c0839c6"
   },
   "outputs": [
    {
     "data": {
      "text/plain": [
       "Index(['SUBJECT_ID', 'SEQ_NUM', 'ICD9_CODE', 'HADM_ID', 'ADMITTIME',\n",
       "       'DISCHTIME', 'ETHNICITY', 'ADMISSION_TYPE', 'ADMISSION_LOCATION',\n",
       "       'INSURANCE', 'RELIGION', 'MARITAL_STATUS', 'FIRST_CAREUNIT',\n",
       "       'LAST_CAREUNIT', 'FIRST_WARDID', 'LAST_WARDID', 'LOS', 'GENDER', 'DOB',\n",
       "       'FULL_LOS', 'AGE', 'PROCEDURES_NUMBER', 'LOS_CATEGORY'],\n",
       "      dtype='object')"
      ]
     },
     "execution_count": 130,
     "metadata": {},
     "output_type": "execute_result"
    }
   ],
   "source": [
    "merged.columns"
   ]
  },
  {
   "cell_type": "code",
   "execution_count": null,
   "id": "QTF9wiO5x6zB",
   "metadata": {
    "colab": {
     "base_uri": "https://localhost:8080/"
    },
    "executionInfo": {
     "elapsed": 205,
     "status": "ok",
     "timestamp": 1653743270188,
     "user": {
      "displayName": "tanjil hasan",
      "userId": "01226942888917073947"
     },
     "user_tz": -120
    },
    "id": "QTF9wiO5x6zB",
    "outputId": "9689a054-d587-4ae2-8e19-7d22489a9518"
   },
   "outputs": [
    {
     "data": {
      "text/plain": [
       "SUBJECT_ID              0\n",
       "SEQ_NUM                 0\n",
       "ICD9_CODE               0\n",
       "HADM_ID                 0\n",
       "ADMITTIME               0\n",
       "DISCHTIME               0\n",
       "ETHNICITY               0\n",
       "ADMISSION_TYPE          0\n",
       "ADMISSION_LOCATION      0\n",
       "INSURANCE               0\n",
       "RELIGION              104\n",
       "MARITAL_STATUS        471\n",
       "FIRST_CAREUNIT          6\n",
       "LAST_CAREUNIT           6\n",
       "FIRST_WARDID            6\n",
       "LAST_WARDID             6\n",
       "LOS                     6\n",
       "GENDER                  0\n",
       "DOB                     0\n",
       "FULL_LOS                0\n",
       "AGE                     0\n",
       "PROCEDURES_NUMBER       0\n",
       "LOS_CATEGORY            0\n",
       "dtype: int64"
      ]
     },
     "execution_count": 131,
     "metadata": {},
     "output_type": "execute_result"
    }
   ],
   "source": [
    "merged.isnull().sum()"
   ]
  },
  {
   "cell_type": "markdown",
   "id": "bB5h1mmoyFaB",
   "metadata": {
    "id": "bB5h1mmoyFaB"
   },
   "source": [
    "### Handeling Null values \n",
    "\n",
    "deteting entire row of those null values may cause loss of other data that has effect over the target class beside the null values of those columns have very tiny effect on our LOS class"
   ]
  },
  {
   "cell_type": "code",
   "execution_count": null,
   "id": "lyb3RyMfkyeo",
   "metadata": {
    "colab": {
     "base_uri": "https://localhost:8080/"
    },
    "executionInfo": {
     "elapsed": 241,
     "status": "ok",
     "timestamp": 1653743423302,
     "user": {
      "displayName": "tanjil hasan",
      "userId": "01226942888917073947"
     },
     "user_tz": -120
    },
    "id": "lyb3RyMfkyeo",
    "outputId": "32b9d37c-3892-416c-f87c-09ef62831e6a"
   },
   "outputs": [
    {
     "data": {
      "text/plain": [
       "SUBJECT_ID            0\n",
       "SEQ_NUM               0\n",
       "ICD9_CODE             0\n",
       "HADM_ID               0\n",
       "ADMITTIME             0\n",
       "DISCHTIME             0\n",
       "ETHNICITY             0\n",
       "ADMISSION_TYPE        0\n",
       "ADMISSION_LOCATION    0\n",
       "INSURANCE             0\n",
       "RELIGION              0\n",
       "MARITAL_STATUS        0\n",
       "FIRST_CAREUNIT        0\n",
       "LAST_CAREUNIT         0\n",
       "FIRST_WARDID          0\n",
       "LAST_WARDID           0\n",
       "LOS                   0\n",
       "GENDER                0\n",
       "DOB                   0\n",
       "FULL_LOS              0\n",
       "AGE                   0\n",
       "PROCEDURES_NUMBER     0\n",
       "LOS_CATEGORY          0\n",
       "dtype: int64"
      ]
     },
     "execution_count": 132,
     "metadata": {},
     "output_type": "execute_result"
    }
   ],
   "source": [
    "merged['RELIGION'] = merged['RELIGION'].fillna('N')\n",
    "merged['MARITAL_STATUS'] = merged['MARITAL_STATUS'].fillna('N')\n",
    "merged['FIRST_CAREUNIT'] = merged['FIRST_CAREUNIT'].fillna('N')\n",
    "merged['LAST_CAREUNIT'] = merged['LAST_CAREUNIT'].fillna('N')\n",
    "merged['FIRST_WARDID'] = merged['FIRST_CAREUNIT'].fillna('N')\n",
    "merged['LAST_WARDID'] = merged['FIRST_CAREUNIT'].fillna('N')\n",
    "merged['LOS'] = merged['LOS'].fillna(0.0)\n",
    "merged.isnull().sum()"
   ]
  },
  {
   "cell_type": "code",
   "execution_count": null,
   "id": "2z2NICHQ2heA",
   "metadata": {
    "colab": {
     "base_uri": "https://localhost:8080/"
    },
    "executionInfo": {
     "elapsed": 12,
     "status": "ok",
     "timestamp": 1653209701598,
     "user": {
      "displayName": "André Vital",
      "userId": "05754064760607199844"
     },
     "user_tz": -120
    },
    "id": "2z2NICHQ2heA",
    "outputId": "2a09d3f6-0e18-4363-db3b-5bbfc766329a"
   },
   "outputs": [
    {
     "data": {
      "text/plain": [
       "Index(['SUBJECT_ID', 'SEQ_NUM', 'ICD9_CODE', 'HADM_ID', 'ADMITTIME',\n",
       "       'DISCHTIME', 'ETHNICITY', 'ADMISSION_TYPE', 'ADMISSION_LOCATION',\n",
       "       'INSURANCE', 'RELIGION', 'MARITAL_STATUS', 'FIRST_CAREUNIT',\n",
       "       'LAST_CAREUNIT', 'FIRST_WARDID', 'LAST_WARDID', 'LOS', 'GENDER', 'DOB',\n",
       "       'FULL_LOS', 'AGE', 'PROCEDURES_NUMBER', 'LOS_CATEGORY',\n",
       "       'LOS_CATEGORY_numeric'],\n",
       "      dtype='object')"
      ]
     },
     "execution_count": 33,
     "metadata": {},
     "output_type": "execute_result"
    }
   ],
   "source": [
    "merged.columns"
   ]
  },
  {
   "cell_type": "code",
   "execution_count": null,
   "id": "RhZUG2qfDJBI",
   "metadata": {
    "id": "RhZUG2qfDJBI"
   },
   "outputs": [],
   "source": [
    "#converting target class into numerical class\n",
    "merged['LOS_CATEGORY_numeric'],uni = pd.factorize(merged['LOS_CATEGORY'])"
   ]
  },
  {
   "cell_type": "code",
   "execution_count": null,
   "id": "hLkhZcmRrZJN",
   "metadata": {
    "id": "hLkhZcmRrZJN"
   },
   "outputs": [],
   "source": [
    "feature_names=[ i for i in merged.columns \n",
    "               if i !='LOS_CATEGORY' and i!='LOS_CATEGORY_numeric' and i!='SUBJECT_ID' and i!='FULL_LOS' and i!='ADMITTIME' and i!='DISCHTIME' and i!='DOB']"
   ]
  },
  {
   "cell_type": "code",
   "execution_count": null,
   "id": "W8RiPO9b45Wa",
   "metadata": {
    "colab": {
     "base_uri": "https://localhost:8080/"
    },
    "executionInfo": {
     "elapsed": 2,
     "status": "ok",
     "timestamp": 1653743683074,
     "user": {
      "displayName": "tanjil hasan",
      "userId": "01226942888917073947"
     },
     "user_tz": -120
    },
    "id": "W8RiPO9b45Wa",
    "outputId": "c4bd46fc-258e-48a5-a435-76e66648b4bb"
   },
   "outputs": [
    {
     "data": {
      "text/plain": [
       "['SEQ_NUM',\n",
       " 'ICD9_CODE',\n",
       " 'HADM_ID',\n",
       " 'ETHNICITY',\n",
       " 'ADMISSION_TYPE',\n",
       " 'ADMISSION_LOCATION',\n",
       " 'INSURANCE',\n",
       " 'RELIGION',\n",
       " 'MARITAL_STATUS',\n",
       " 'FIRST_CAREUNIT',\n",
       " 'LAST_CAREUNIT',\n",
       " 'FIRST_WARDID',\n",
       " 'LAST_WARDID',\n",
       " 'LOS',\n",
       " 'GENDER',\n",
       " 'AGE',\n",
       " 'PROCEDURES_NUMBER']"
      ]
     },
     "execution_count": 135,
     "metadata": {},
     "output_type": "execute_result"
    }
   ],
   "source": [
    "feature_names"
   ]
  },
  {
   "cell_type": "code",
   "execution_count": null,
   "id": "zbnzygqM2krW",
   "metadata": {
    "id": "zbnzygqM2krW"
   },
   "outputs": [],
   "source": [
    "# spliting target class from other features\n",
    "x = merged[feature_names]\n",
    "y= np.asarray(merged['LOS_CATEGORY_numeric'])"
   ]
  },
  {
   "cell_type": "code",
   "execution_count": null,
   "id": "ZBANHBJh5fTQ",
   "metadata": {
    "colab": {
     "base_uri": "https://localhost:8080/"
    },
    "executionInfo": {
     "elapsed": 204,
     "status": "ok",
     "timestamp": 1653743761081,
     "user": {
      "displayName": "tanjil hasan",
      "userId": "01226942888917073947"
     },
     "user_tz": -120
    },
    "id": "ZBANHBJh5fTQ",
    "outputId": "f11fe9ec-bdc0-448e-f9d4-173c73e0e658"
   },
   "outputs": [
    {
     "name": "stdout",
     "output_type": "stream",
     "text": [
      "not String \t SEQ_NUM\n",
      "not String \t HADM_ID\n",
      "not String \t LOS\n",
      "not String \t AGE\n",
      "not String \t PROCEDURES_NUMBER\n"
     ]
    },
    {
     "name": "stderr",
     "output_type": "stream",
     "text": [
      "/usr/local/lib/python3.7/dist-packages/ipykernel_launcher.py:6: SettingWithCopyWarning: \n",
      "A value is trying to be set on a copy of a slice from a DataFrame.\n",
      "Try using .loc[row_indexer,col_indexer] = value instead\n",
      "\n",
      "See the caveats in the documentation: https://pandas.pydata.org/pandas-docs/stable/user_guide/indexing.html#returning-a-view-versus-a-copy\n",
      "  \n"
     ]
    }
   ],
   "source": [
    "# converting every string and categrical features into it's numerical represtation\n",
    "list_of_non_string_features =[]\n",
    "for i in x.columns:\n",
    "  if type(x[i][0]) == type('l'):\n",
    "    name = f\"{i}_num\"\n",
    "    x[name],_=pd.factorize(x[i])\n",
    "  else:\n",
    "    print(f\"not String \\t {i}\")\n",
    "    list_of_non_string_features.append(i)"
   ]
  },
  {
   "cell_type": "code",
   "execution_count": null,
   "id": "1AMGE9Og8lJB",
   "metadata": {
    "colab": {
     "base_uri": "https://localhost:8080/"
    },
    "executionInfo": {
     "elapsed": 697,
     "status": "ok",
     "timestamp": 1653743798822,
     "user": {
      "displayName": "tanjil hasan",
      "userId": "01226942888917073947"
     },
     "user_tz": -120
    },
    "id": "1AMGE9Og8lJB",
    "outputId": "aaabfcba-044a-4593-bc0c-b402c8df4f66"
   },
   "outputs": [
    {
     "data": {
      "text/plain": [
       "['ICD9_CODE_num',\n",
       " 'ETHNICITY_num',\n",
       " 'ADMISSION_TYPE_num',\n",
       " 'ADMISSION_LOCATION_num',\n",
       " 'INSURANCE_num',\n",
       " 'RELIGION_num',\n",
       " 'MARITAL_STATUS_num',\n",
       " 'FIRST_CAREUNIT_num',\n",
       " 'LAST_CAREUNIT_num',\n",
       " 'FIRST_WARDID_num',\n",
       " 'LAST_WARDID_num',\n",
       " 'GENDER_num',\n",
       " 'SEQ_NUM',\n",
       " 'HADM_ID',\n",
       " 'LOS',\n",
       " 'AGE',\n",
       " 'PROCEDURES_NUMBER']"
      ]
     },
     "execution_count": 138,
     "metadata": {},
     "output_type": "execute_result"
    }
   ],
   "source": [
    "feature_names= [i for i in x.columns if 'num' in i] + list_of_non_string_features\n",
    "feature_names"
   ]
  },
  {
   "cell_type": "code",
   "execution_count": null,
   "id": "s4L7F5_2937E",
   "metadata": {
    "id": "s4L7F5_2937E"
   },
   "outputs": [],
   "source": [
    "#converting datas into numpy array\n",
    "x = x[feature_names].values"
   ]
  },
  {
   "cell_type": "code",
   "execution_count": null,
   "id": "H9yEqMaO97sE",
   "metadata": {
    "colab": {
     "base_uri": "https://localhost:8080/"
    },
    "executionInfo": {
     "elapsed": 205,
     "status": "ok",
     "timestamp": 1653743911740,
     "user": {
      "displayName": "tanjil hasan",
      "userId": "01226942888917073947"
     },
     "user_tz": -120
    },
    "id": "H9yEqMaO97sE",
    "outputId": "672e3d9e-d6bf-4c27-fd5b-037442973e21"
   },
   "outputs": [
    {
     "data": {
      "text/plain": [
       "array([[0.0000e+00, 0.0000e+00, 0.0000e+00, ..., 2.1430e+00, 2.8756e+04,\n",
       "        6.3083e+04],\n",
       "       [0.0000e+00, 0.0000e+00, 0.0000e+00, ..., 1.0524e+00, 2.8756e+04,\n",
       "        6.3083e+04],\n",
       "       [0.0000e+00, 0.0000e+00, 0.0000e+00, ..., 2.1430e+00, 2.8801e+04,\n",
       "        6.3083e+04],\n",
       "       ...,\n",
       "       [0.0000e+00, 1.0000e+00, 0.0000e+00, ..., 2.2430e+00, 2.8296e+04,\n",
       "        6.3083e+04],\n",
       "       [0.0000e+00, 1.0000e+00, 1.0000e+00, ..., 6.0569e+00, 2.4402e+04,\n",
       "        6.3083e+04],\n",
       "       [0.0000e+00, 1.0000e+00, 1.0000e+00, ..., 2.2430e+00, 2.4402e+04,\n",
       "        6.3083e+04]])"
      ]
     },
     "execution_count": 140,
     "metadata": {},
     "output_type": "execute_result"
    }
   ],
   "source": [
    "x"
   ]
  },
  {
   "cell_type": "markdown",
   "id": "NF2w8KoeMYbE",
   "metadata": {
    "id": "NF2w8KoeMYbE"
   },
   "source": [
    "#Several Machine Learning algorithms are evaluated:"
   ]
  },
  {
   "cell_type": "code",
   "execution_count": null,
   "id": "3HfGIeaL2zp6",
   "metadata": {
    "id": "3HfGIeaL2zp6"
   },
   "outputs": [],
   "source": [
    "\n",
    "# spliting data into train and test samples\n",
    "from sklearn.model_selection import train_test_split\n",
    "x_train, x_test, y_train, y_test = train_test_split(x, y,test_size = 0.33, random_state = 0)"
   ]
  },
  {
   "cell_type": "code",
   "execution_count": null,
   "id": "Wro41vel3Zoi",
   "metadata": {
    "colab": {
     "base_uri": "https://localhost:8080/"
    },
    "executionInfo": {
     "elapsed": 773,
     "status": "ok",
     "timestamp": 1653743975411,
     "user": {
      "displayName": "tanjil hasan",
      "userId": "01226942888917073947"
     },
     "user_tz": -120
    },
    "id": "Wro41vel3Zoi",
    "outputId": "930988c1-0de6-465b-8be4-198ce326040a"
   },
   "outputs": [
    {
     "name": "stdout",
     "output_type": "stream",
     "text": [
      "\n",
      "Y_predict \n",
      "[0 0 0 ... 0 0 0]\n",
      "\n",
      "y_test \n",
      "[0 0 0 ... 0 0 0]\n",
      "\n",
      "classification_report \n",
      "              precision    recall  f1-score   support\n",
      "\n",
      "           0       0.92      0.91      0.92     12252\n",
      "           1       0.88      0.89      0.88      8566\n",
      "\n",
      "    accuracy                           0.90     20818\n",
      "   macro avg       0.90      0.90      0.90     20818\n",
      "weighted avg       0.90      0.90      0.90     20818\n",
      "\n",
      "\n",
      "confusion_matrix \n",
      "[[11195  1057]\n",
      " [  940  7626]]\n",
      "\n",
      " Accuracy Score \n",
      " 0.9040733980209434\n"
     ]
    }
   ],
   "source": [
    "from sklearn.tree import DecisionTreeClassifier\n",
    "DecisionTree = DecisionTreeClassifier().fit(x_train,y_train)\n",
    "\n",
    "y_predict = DecisionTree.predict(x_test)\n",
    "print(f\"\\nY_predict \\n{y_predict}\")\n",
    "print(f\"\\ny_test \\n{y_test}\")\n",
    "#evaluate \n",
    "from sklearn.metrics import classification_report, confusion_matrix , accuracy_score\n",
    "print(f\"\\nclassification_report \\n{classification_report(y_test,y_predict)}\")\n",
    "print(f\"\\nconfusion_matrix \\n{confusion_matrix(y_test,y_predict)}\")\n",
    "print(f\"\\n Accuracy Score \\n {accuracy_score(y_test,y_predict)}\")"
   ]
  },
  {
   "cell_type": "code",
   "execution_count": null,
   "id": "sct1mQYZ3jYX",
   "metadata": {
    "colab": {
     "base_uri": "https://localhost:8080/"
    },
    "executionInfo": {
     "elapsed": 250,
     "status": "ok",
     "timestamp": 1653743984185,
     "user": {
      "displayName": "tanjil hasan",
      "userId": "01226942888917073947"
     },
     "user_tz": -120
    },
    "id": "sct1mQYZ3jYX",
    "outputId": "84353fc4-df14-4b74-ff15-fd1fde842f08"
   },
   "outputs": [
    {
     "name": "stdout",
     "output_type": "stream",
     "text": [
      "\n",
      "Y_predict \n",
      "[1 1 1 ... 0 1 1]\n",
      "\n",
      "y_test \n",
      "[0 0 0 ... 0 0 0]\n",
      "\n",
      "classification_report \n",
      "              precision    recall  f1-score   support\n",
      "\n",
      "           0       0.60      0.54      0.57     12252\n",
      "           1       0.43      0.50      0.46      8566\n",
      "\n",
      "    accuracy                           0.52     20818\n",
      "   macro avg       0.52      0.52      0.51     20818\n",
      "weighted avg       0.53      0.52      0.52     20818\n",
      "\n",
      "\n",
      "confusion_matrix \n",
      "[[6558 5694]\n",
      " [4289 4277]]\n",
      "\n",
      " Accuracy Score \n",
      " 0.5204630608127582\n"
     ]
    }
   ],
   "source": [
    "#create and train the naive Bayes Classifier \n",
    "from sklearn.naive_bayes import MultinomialNB\n",
    "MultinomialNB = MultinomialNB().fit(x_train,y_train)\n",
    "y_predict = MultinomialNB.predict(x_test)\n",
    "print(f\"\\nY_predict \\n{y_predict}\")\n",
    "print(f\"\\ny_test \\n{y_test}\")\n",
    "#evaluate \n",
    "from sklearn.metrics import classification_report, confusion_matrix , accuracy_score\n",
    "print(f\"\\nclassification_report \\n{classification_report(y_test,y_predict)}\")\n",
    "print(f\"\\nconfusion_matrix \\n{confusion_matrix(y_test,y_predict)}\")\n",
    "print(f\"\\n Accuracy Score \\n {accuracy_score(y_test,y_predict)}\")"
   ]
  },
  {
   "cell_type": "code",
   "execution_count": null,
   "id": "81XlURmRLQAj",
   "metadata": {
    "colab": {
     "base_uri": "https://localhost:8080/"
    },
    "executionInfo": {
     "elapsed": 17311,
     "status": "ok",
     "timestamp": 1653744014731,
     "user": {
      "displayName": "tanjil hasan",
      "userId": "01226942888917073947"
     },
     "user_tz": -120
    },
    "id": "81XlURmRLQAj",
    "outputId": "f7a4f872-f2ff-40fc-d755-501a027640e1"
   },
   "outputs": [
    {
     "name": "stdout",
     "output_type": "stream",
     "text": [
      "\n",
      "Y_predict \n",
      "[0 0 0 ... 0 0 0]\n",
      "\n",
      "y_test \n",
      "[0 0 0 ... 0 0 0]\n",
      "\n",
      "classification_report \n",
      "              precision    recall  f1-score   support\n",
      "\n",
      "           0       0.93      0.94      0.94     12252\n",
      "           1       0.91      0.90      0.91      8566\n",
      "\n",
      "    accuracy                           0.92     20818\n",
      "   macro avg       0.92      0.92      0.92     20818\n",
      "weighted avg       0.92      0.92      0.92     20818\n",
      "\n",
      "\n",
      "confusion_matrix \n",
      "[[11531   721]\n",
      " [  869  7697]]\n",
      "\n",
      " Accuracy Score \n",
      " 0.923623787107311\n"
     ]
    }
   ],
   "source": [
    "from sklearn.neighbors import KNeighborsClassifier\n",
    "knn = KNeighborsClassifier().fit(x_train,y_train)\n",
    "\n",
    "y_predict = knn.predict(x_test)\n",
    "print(f\"\\nY_predict \\n{y_predict}\")\n",
    "print(f\"\\ny_test \\n{y_test}\")\n",
    "#evaluate \n",
    "from sklearn.metrics import classification_report, confusion_matrix , accuracy_score\n",
    "print(f\"\\nclassification_report \\n{classification_report(y_test,y_predict)}\")\n",
    "print(f\"\\nconfusion_matrix \\n{confusion_matrix(y_test,y_predict)}\")\n",
    "print(f\"\\n Accuracy Score \\n {accuracy_score(y_test,y_predict)}\")\n",
    "accbefore = accuracy_score(y_test,y_predict)"
   ]
  },
  {
   "cell_type": "code",
   "execution_count": null,
   "id": "B8o1eGmIJUms",
   "metadata": {
    "colab": {
     "base_uri": "https://localhost:8080/"
    },
    "executionInfo": {
     "elapsed": 123527,
     "status": "ok",
     "timestamp": 1653744141828,
     "user": {
      "displayName": "tanjil hasan",
      "userId": "01226942888917073947"
     },
     "user_tz": -120
    },
    "id": "B8o1eGmIJUms",
    "outputId": "f04e89bf-35c4-4cef-f18e-b0d9a6be75db"
   },
   "outputs": [
    {
     "name": "stdout",
     "output_type": "stream",
     "text": [
      "\n",
      "Y_predict \n",
      "[0 0 0 ... 0 0 0]\n",
      "\n",
      "y_test \n",
      "[0 0 0 ... 0 0 0]\n",
      "\n",
      "classification_report \n",
      "              precision    recall  f1-score   support\n",
      "\n",
      "           0       0.59      1.00      0.74     12252\n",
      "           1       0.00      0.00      0.00      8566\n",
      "\n",
      "    accuracy                           0.59     20818\n",
      "   macro avg       0.29      0.50      0.37     20818\n",
      "weighted avg       0.35      0.59      0.44     20818\n",
      "\n",
      "\n",
      "confusion_matrix \n",
      "[[12252     0]\n",
      " [ 8566     0]]\n",
      "\n",
      " Accuracy Score \n",
      " 0.5885291574598904\n"
     ]
    },
    {
     "name": "stderr",
     "output_type": "stream",
     "text": [
      "/usr/local/lib/python3.7/dist-packages/sklearn/metrics/_classification.py:1318: UndefinedMetricWarning: Precision and F-score are ill-defined and being set to 0.0 in labels with no predicted samples. Use `zero_division` parameter to control this behavior.\n",
      "  _warn_prf(average, modifier, msg_start, len(result))\n",
      "/usr/local/lib/python3.7/dist-packages/sklearn/metrics/_classification.py:1318: UndefinedMetricWarning: Precision and F-score are ill-defined and being set to 0.0 in labels with no predicted samples. Use `zero_division` parameter to control this behavior.\n",
      "  _warn_prf(average, modifier, msg_start, len(result))\n",
      "/usr/local/lib/python3.7/dist-packages/sklearn/metrics/_classification.py:1318: UndefinedMetricWarning: Precision and F-score are ill-defined and being set to 0.0 in labels with no predicted samples. Use `zero_division` parameter to control this behavior.\n",
      "  _warn_prf(average, modifier, msg_start, len(result))\n"
     ]
    }
   ],
   "source": [
    "from sklearn.svm import SVC\n",
    "svc = SVC().fit(x_train,y_train)\n",
    "\n",
    "y_predict = svc.predict(x_test)\n",
    "print(f\"\\nY_predict \\n{y_predict}\")\n",
    "print(f\"\\ny_test \\n{y_test}\")\n",
    "#evaluate \n",
    "from sklearn.metrics import classification_report, confusion_matrix , accuracy_score\n",
    "print(f\"\\nclassification_report \\n{classification_report(y_test,y_predict)}\")\n",
    "print(f\"\\nconfusion_matrix \\n{confusion_matrix(y_test,y_predict)}\")\n",
    "print(f\"\\n Accuracy Score \\n {accuracy_score(y_test,y_predict)}\")"
   ]
  },
  {
   "cell_type": "code",
   "execution_count": null,
   "id": "FhqkPNMVJaU7",
   "metadata": {
    "colab": {
     "base_uri": "https://localhost:8080/"
    },
    "executionInfo": {
     "elapsed": 151158,
     "status": "ok",
     "timestamp": 1653744338055,
     "user": {
      "displayName": "tanjil hasan",
      "userId": "01226942888917073947"
     },
     "user_tz": -120
    },
    "id": "FhqkPNMVJaU7",
    "outputId": "1bc1239b-7b0e-4f32-95df-7cb813eb8e00"
   },
   "outputs": [
    {
     "name": "stdout",
     "output_type": "stream",
     "text": [
      "\n",
      "Y_predict \n",
      "[0 0 0 ... 0 0 0]\n",
      "\n",
      "y_test \n",
      "[0 0 0 ... 0 0 0]\n",
      "\n",
      "classification_report \n",
      "              precision    recall  f1-score   support\n",
      "\n",
      "           0       0.71      0.99      0.83     12252\n",
      "           1       0.97      0.43      0.59      8566\n",
      "\n",
      "    accuracy                           0.76     20818\n",
      "   macro avg       0.84      0.71      0.71     20818\n",
      "weighted avg       0.82      0.76      0.73     20818\n",
      "\n",
      "\n",
      "confusion_matrix \n",
      "[[12143   109]\n",
      " [ 4919  3647]]\n",
      "\n",
      " Accuracy Score \n",
      " 0.7584782399846287\n"
     ]
    }
   ],
   "source": [
    "from sklearn. ensemble import VotingClassifier\n",
    "votingClf = VotingClassifier(estimators=[('decisionTree',DecisionTree),\n",
    "('naiveBayes',MultinomialNB),('knn',knn),('svc',svc)],voting='hard')\n",
    "votingClf.fit(x_train,y_train)\n",
    "\n",
    "y_predict = votingClf.predict(x_test)\n",
    "print(f\"\\nY_predict \\n{y_predict}\")\n",
    "print(f\"\\ny_test \\n{y_test}\")\n",
    "#evaluate \n",
    "from sklearn.metrics import classification_report, confusion_matrix , accuracy_score\n",
    "print(f\"\\nclassification_report \\n{classification_report(y_test,y_predict)}\")\n",
    "print(f\"\\nconfusion_matrix \\n{confusion_matrix(y_test,y_predict)}\")\n",
    "print(f\"\\n Accuracy Score \\n {accuracy_score(y_test,y_predict)}\")"
   ]
  },
  {
   "cell_type": "code",
   "execution_count": null,
   "id": "a2XzWwJuJadM",
   "metadata": {
    "colab": {
     "base_uri": "https://localhost:8080/"
    },
    "executionInfo": {
     "elapsed": 791,
     "status": "ok",
     "timestamp": 1653744338830,
     "user": {
      "displayName": "tanjil hasan",
      "userId": "01226942888917073947"
     },
     "user_tz": -120
    },
    "id": "a2XzWwJuJadM",
    "outputId": "adbe1dab-91eb-4d7d-97b4-6ed231b983fe"
   },
   "outputs": [
    {
     "name": "stdout",
     "output_type": "stream",
     "text": [
      "\n",
      "Y_predict \n",
      "[0 0 0 ... 0 0 0]\n",
      "\n",
      "y_test \n",
      "[0 0 0 ... 0 0 0]\n",
      "\n",
      "classification_report \n",
      "              precision    recall  f1-score   support\n",
      "\n",
      "           0       0.89      0.96      0.93     12252\n",
      "           1       0.94      0.83      0.88      8566\n",
      "\n",
      "    accuracy                           0.91     20818\n",
      "   macro avg       0.91      0.90      0.90     20818\n",
      "weighted avg       0.91      0.91      0.91     20818\n",
      "\n",
      "\n",
      "confusion_matrix \n",
      "[[11787   465]\n",
      " [ 1444  7122]]\n",
      "\n",
      " Accuracy Score \n",
      " 0.9083005091747526\n"
     ]
    }
   ],
   "source": [
    "from sklearn.ensemble import BaggingClassifier\n",
    "bagging = BaggingClassifier(n_estimators=4)\n",
    "bagging.fit(x_train,y_train)\n",
    "\n",
    "y_predict = bagging.predict(x_test)\n",
    "print(f\"\\nY_predict \\n{y_predict}\")\n",
    "print(f\"\\ny_test \\n{y_test}\")\n",
    "#evaluate \n",
    "from sklearn.metrics import classification_report, confusion_matrix , accuracy_score\n",
    "print(f\"\\nclassification_report \\n{classification_report(y_test,y_predict)}\")\n",
    "print(f\"\\nconfusion_matrix \\n{confusion_matrix(y_test,y_predict)}\")\n",
    "print(f\"\\n Accuracy Score \\n {accuracy_score(y_test,y_predict)}\")"
   ]
  },
  {
   "cell_type": "code",
   "execution_count": null,
   "id": "KdNzHBOZJafT",
   "metadata": {
    "colab": {
     "base_uri": "https://localhost:8080/"
    },
    "executionInfo": {
     "elapsed": 229,
     "status": "ok",
     "timestamp": 1653744339058,
     "user": {
      "displayName": "tanjil hasan",
      "userId": "01226942888917073947"
     },
     "user_tz": -120
    },
    "id": "KdNzHBOZJafT",
    "outputId": "2b58929b-b6ab-4aeb-d7f5-dca05def844c"
   },
   "outputs": [
    {
     "name": "stdout",
     "output_type": "stream",
     "text": [
      "\n",
      "Y_predict \n",
      "[0 0 0 ... 0 1 0]\n",
      "\n",
      "y_test \n",
      "[0 0 0 ... 0 0 0]\n",
      "\n",
      "classification_report \n",
      "              precision    recall  f1-score   support\n",
      "\n",
      "           0       0.64      0.79      0.71     12252\n",
      "           1       0.54      0.36      0.43      8566\n",
      "\n",
      "    accuracy                           0.61     20818\n",
      "   macro avg       0.59      0.57      0.57     20818\n",
      "weighted avg       0.60      0.61      0.59     20818\n",
      "\n",
      "\n",
      "confusion_matrix \n",
      "[[9685 2567]\n",
      " [5500 3066]]\n",
      "\n",
      " Accuracy Score \n",
      " 0.6124987991161495\n"
     ]
    }
   ],
   "source": [
    "from sklearn.ensemble import AdaBoostClassifier\n",
    "adaBoost = AdaBoostClassifier(n_estimators=4)\n",
    "adaBoost.fit(x_train,y_train)\n",
    "\n",
    "y_predict = adaBoost.predict(x_test)\n",
    "print(f\"\\nY_predict \\n{y_predict}\")\n",
    "print(f\"\\ny_test \\n{y_test}\")\n",
    "#evaluate \n",
    "from sklearn.metrics import classification_report, confusion_matrix , accuracy_score\n",
    "print(f\"\\nclassification_report \\n{classification_report(y_test,y_predict)}\")\n",
    "print(f\"\\nconfusion_matrix \\n{confusion_matrix(y_test,y_predict)}\")\n",
    "print(f\"\\n Accuracy Score \\n {accuracy_score(y_test,y_predict)}\")"
   ]
  },
  {
   "cell_type": "code",
   "execution_count": null,
   "id": "kvllu79WJahb",
   "metadata": {
    "colab": {
     "base_uri": "https://localhost:8080/"
    },
    "executionInfo": {
     "elapsed": 217,
     "status": "ok",
     "timestamp": 1653744339273,
     "user": {
      "displayName": "tanjil hasan",
      "userId": "01226942888917073947"
     },
     "user_tz": -120
    },
    "id": "kvllu79WJahb",
    "outputId": "0d9b50c7-943a-489a-c109-004630dad4f5"
   },
   "outputs": [
    {
     "name": "stdout",
     "output_type": "stream",
     "text": [
      "\n",
      "Y_predict \n",
      "[0 0 0 ... 0 0 0]\n",
      "\n",
      "y_test \n",
      "[0 0 0 ... 0 0 0]\n",
      "\n",
      "classification_report \n",
      "              precision    recall  f1-score   support\n",
      "\n",
      "           0       0.86      0.96      0.91     12252\n",
      "           1       0.92      0.78      0.85      8566\n",
      "\n",
      "    accuracy                           0.88     20818\n",
      "   macro avg       0.89      0.87      0.88     20818\n",
      "weighted avg       0.89      0.88      0.88     20818\n",
      "\n",
      "\n",
      "confusion_matrix \n",
      "[[11704   548]\n",
      " [ 1858  6708]]\n",
      "\n",
      " Accuracy Score \n",
      " 0.8844269382265347\n"
     ]
    }
   ],
   "source": [
    "from sklearn.ensemble import RandomForestClassifier\n",
    "randomForest = RandomForestClassifier(n_estimators=4)\n",
    "randomForest.fit(x_train,y_train)\n",
    "\n",
    "y_predict = randomForest.predict(x_test)\n",
    "print(f\"\\nY_predict \\n{y_predict}\")\n",
    "print(f\"\\ny_test \\n{y_test}\")\n",
    "#evaluate \n",
    "from sklearn.metrics import classification_report, confusion_matrix , accuracy_score\n",
    "print(f\"\\nclassification_report \\n{classification_report(y_test,y_predict)}\")\n",
    "print(f\"\\nconfusion_matrix \\n{confusion_matrix(y_test,y_predict)}\")\n",
    "print(f\"\\n Accuracy Score \\n {accuracy_score(y_test,y_predict)}\")"
   ]
  },
  {
   "cell_type": "code",
   "execution_count": null,
   "id": "_qdLFZeyJaj1",
   "metadata": {
    "id": "_qdLFZeyJaj1"
   },
   "outputs": [],
   "source": [
    "dict_acc ={'decisionTree':accuracy_score(y_test,DecisionTree.predict(x_test)),\n",
    "           'naiveBayes':accuracy_score(y_test,MultinomialNB.predict(x_test)),\n",
    "           'KNN':accuracy_score(y_test,knn.predict(x_test)),\n",
    "           'SVC':accuracy_score(y_test,svc.predict(x_test)),\n",
    "           'Ensemble_voting':accuracy_score(y_test,votingClf.predict(x_test)),\n",
    "           'bagging':accuracy_score(y_test,bagging.predict(x_test)),\n",
    "           'AdaBoost':accuracy_score(y_test,adaBoost.predict(x_test)),\n",
    "           'Random Forest':accuracy_score(y_test,randomForest.predict(x_test))\n",
    "           }"
   ]
  },
  {
   "cell_type": "code",
   "execution_count": null,
   "id": "-LkBNehJJal8",
   "metadata": {
    "colab": {
     "base_uri": "https://localhost:8080/"
    },
    "executionInfo": {
     "elapsed": 12,
     "status": "ok",
     "timestamp": 1653744469293,
     "user": {
      "displayName": "tanjil hasan",
      "userId": "01226942888917073947"
     },
     "user_tz": -120
    },
    "id": "-LkBNehJJal8",
    "outputId": "63d94d5d-214c-4dfa-9b96-fd6975779260"
   },
   "outputs": [
    {
     "name": "stdout",
     "output_type": "stream",
     "text": [
      "decisionTree\t\n",
      "\t0.9040733980209434\n",
      "naiveBayes\t\n",
      "\t0.5204630608127582\n",
      "KNN\t\n",
      "\t0.923623787107311\n",
      "SVC\t\n",
      "\t0.5885291574598904\n",
      "Ensemble_voting\t\n",
      "\t0.7584782399846287\n",
      "bagging\t\n",
      "\t0.9083005091747526\n",
      "AdaBoost\t\n",
      "\t0.6124987991161495\n",
      "Random Forest\t\n",
      "\t0.8844269382265347\n"
     ]
    }
   ],
   "source": [
    "for i in dict_acc:\n",
    "    print(f\"{i}\\t\\n\\t{dict_acc[i]}\")"
   ]
  },
  {
   "cell_type": "code",
   "execution_count": null,
   "id": "aeusKsTCJ6_7",
   "metadata": {
    "colab": {
     "base_uri": "https://localhost:8080/",
     "height": 500
    },
    "executionInfo": {
     "elapsed": 356,
     "status": "ok",
     "timestamp": 1653744514294,
     "user": {
      "displayName": "tanjil hasan",
      "userId": "01226942888917073947"
     },
     "user_tz": -120
    },
    "id": "aeusKsTCJ6_7",
    "outputId": "467b4544-6043-43ad-b492-9ed3d4737bd5"
   },
   "outputs": [
    {
     "data": {
      "image/png": "[encoded data removed]",
      "text/plain": [
       "<Figure size 720x576 with 1 Axes>"
      ]
     },
     "metadata": {
      "needs_background": "light"
     },
     "output_type": "display_data"
    }
   ],
   "source": [
    "keyes = [i for i in dict_acc]\n",
    "values = [dict_acc[i]for i in dict_acc]\n",
    "\n",
    "plt.figure(figsize=(10,8))\n",
    "plt.plot(keyes,values)\n",
    "plt.scatter(list(range(8)),values)\n",
    "plt.title(\"Accuracies of different models\")\n",
    "\n",
    "plt.show()"
   ]
  },
  {
   "cell_type": "markdown",
   "id": "Dv3ay2GqMl1U",
   "metadata": {
    "id": "Dv3ay2GqMl1U"
   },
   "source": [
    "## KNN showed up being the best model.Now, let's tune its hyperparameters."
   ]
  },
  {
   "cell_type": "code",
   "execution_count": null,
   "id": "yiAqov70J7Ez",
   "metadata": {
    "colab": {
     "base_uri": "https://localhost:8080/"
    },
    "executionInfo": {
     "elapsed": 359815,
     "status": "ok",
     "timestamp": 1653744924080,
     "user": {
      "displayName": "tanjil hasan",
      "userId": "01226942888917073947"
     },
     "user_tz": -120
    },
    "id": "yiAqov70J7Ez",
    "outputId": "5d877fbc-e7cb-4f0a-b35c-c84062c725c4"
   },
   "outputs": [
    {
     "name": "stdout",
     "output_type": "stream",
     "text": [
      "Best leaf_size: 1\n",
      "Best p: 1\n",
      "Best n_neighbors: 4\n"
     ]
    }
   ],
   "source": [
    "#####################\n",
    "from sklearn.model_selection import GridSearchCV\n",
    "#List Hyperparameters that we want to tune.\n",
    "leaf_size = list(range(1,2))\n",
    "n_neighbors = list(range(1,5))\n",
    "p=[1,2]\n",
    "#Convert to dictionary\n",
    "hyperparameters = dict(leaf_size=leaf_size, n_neighbors=n_neighbors, p=p)\n",
    "#Create new KNN object\n",
    "knn_2 = KNeighborsClassifier()\n",
    "#Use GridSearch\n",
    "clf = GridSearchCV(knn_2, hyperparameters, cv=10)\n",
    "#Fit the model\n",
    "best_model = clf.fit(x,y)\n",
    "#Print The value of best Hyperparameters\n",
    "print('Best leaf_size:', best_model.best_estimator_.get_params()['leaf_size'])\n",
    "print('Best p:', best_model.best_estimator_.get_params()['p'])\n",
    "print('Best n_neighbors:', best_model.best_estimator_.get_params()['n_neighbors'])\n",
    "######################"
   ]
  },
  {
   "cell_type": "markdown",
   "id": "Lv-rPfPujjqr",
   "metadata": {
    "id": "Lv-rPfPujjqr"
   },
   "source": [
    "Running KNN again, with the new hyperparemeters:"
   ]
  },
  {
   "cell_type": "code",
   "execution_count": null,
   "id": "6_dHL8dbjZ0V",
   "metadata": {
    "colab": {
     "base_uri": "https://localhost:8080/"
    },
    "executionInfo": {
     "elapsed": 23073,
     "status": "ok",
     "timestamp": 1653745129946,
     "user": {
      "displayName": "tanjil hasan",
      "userId": "01226942888917073947"
     },
     "user_tz": -120
    },
    "id": "6_dHL8dbjZ0V",
    "outputId": "5160bbc3-94e3-4c42-f44c-863c90993a97"
   },
   "outputs": [
    {
     "name": "stdout",
     "output_type": "stream",
     "text": [
      "\n",
      "Y_predict \n",
      "[0 0 0 ... 0 0 0]\n",
      "\n",
      "y_test \n",
      "[0 0 0 ... 0 0 0]\n",
      "\n",
      "classification_report \n",
      "              precision    recall  f1-score   support\n",
      "\n",
      "           0       0.92      0.96      0.94     12252\n",
      "           1       0.94      0.89      0.91      8566\n",
      "\n",
      "    accuracy                           0.93     20818\n",
      "   macro avg       0.93      0.92      0.93     20818\n",
      "weighted avg       0.93      0.93      0.93     20818\n",
      "\n",
      "\n",
      "confusion_matrix \n",
      "[[11773   479]\n",
      " [  961  7605]]\n",
      "\n",
      " Accuracy Score \n",
      " 0.9308290902103948\n"
     ]
    }
   ],
   "source": [
    "from sklearn.neighbors import KNeighborsClassifier\n",
    "knn = KNeighborsClassifier(n_neighbors=4, leaf_size = 1, p=1)\n",
    "knn.fit(x_train,y_train)\n",
    "\n",
    "y_predict = knn.predict(x_test)\n",
    "print(f\"\\nY_predict \\n{y_predict}\")\n",
    "print(f\"\\ny_test \\n{y_test}\")\n",
    "#evaluate \n",
    "from sklearn.metrics import classification_report, confusion_matrix , accuracy_score\n",
    "print(f\"\\nclassification_report \\n{classification_report(y_test,y_predict)}\")\n",
    "print(f\"\\nconfusion_matrix \\n{confusion_matrix(y_test,y_predict)}\")\n",
    "print(f\"\\n Accuracy Score \\n {accuracy_score(y_test,y_predict)}\")"
   ]
  },
  {
   "cell_type": "code",
   "execution_count": null,
   "id": "tI7Qb75_ItrP",
   "metadata": {
    "colab": {
     "base_uri": "https://localhost:8080/"
    },
    "executionInfo": {
     "elapsed": 14,
     "status": "ok",
     "timestamp": 1653745129947,
     "user": {
      "displayName": "tanjil hasan",
      "userId": "01226942888917073947"
     },
     "user_tz": -120
    },
    "id": "tI7Qb75_ItrP",
    "outputId": "7129a5ec-1322-4e63-fbcb-73b24c02f9dc"
   },
   "outputs": [
    {
     "name": "stdout",
     "output_type": "stream",
     "text": [
      "Accuracy before: 0.923623787107311\n"
     ]
    }
   ],
   "source": [
    "print(\"Accuracy before: \" + str(accbefore))"
   ]
  },
  {
   "cell_type": "code",
   "execution_count": null,
   "id": "TWToe7e-48fe",
   "metadata": {
    "id": "TWToe7e-48fe"
   },
   "outputs": [],
   "source": [
    "\n",
    "\n",
    "# query and table merge and analysis = jishiya \n",
    "\n",
    "# data analysis , exploration , feature engineering = Tanjil\n",
    "\n",
    "# preprocessing = andre\n",
    "\n",
    "# model implemnation evaluation  = andre\n",
    "\n",
    "# hypertunning = Masha "
   ]
  }
 ],
 "metadata": {
  "accelerator": "GPU",
  "colab": {
   "collapsed_sections": [],
   "name": "MIMIC_III_PROJECT.ipynb",
   "provenance": []
  },
  "kernelspec": {
   "display_name": "Python 3 (ipykernel)",
   "language": "python",
   "name": "python3"
  },
  "language_info": {
   "codemirror_mode": {
    "name": "ipython",
    "version": 3
   },
   "file_extension": ".py",
   "mimetype": "text/x-python",
   "name": "python",
   "nbconvert_exporter": "python",
   "pygments_lexer": "ipython3",
   "version": "3.7.11"
  }
 },
 "nbformat": 4,
 "nbformat_minor": 5
}
